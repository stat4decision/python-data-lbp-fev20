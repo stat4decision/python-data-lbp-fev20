{
 "cells": [
  {
   "cell_type": "markdown",
   "metadata": {
    "slideshow": {
     "slide_type": "slide"
    }
   },
   "source": [
    "![image](./images/pandas.png)\n",
    "\n",
    "Pandas est le package de prédilection pour traiter des données structurées.\n",
    "\n",
    "Pandas est basé sur 2 structures extrêmement liées les Series et le DataFrame.\n",
    "\n",
    "Ces deux structures permettent de traiter des données sous forme de tableaux indexés.\n",
    "\n",
    "Les classes de Pandas utilisent des classes de Numpy, il est donc possible d'utiliser les fonctions universelles de Numpy sur les objets Pandas."
   ]
  },
  {
   "cell_type": "code",
   "execution_count": 1,
   "metadata": {
    "slideshow": {
     "slide_type": "subslide"
    }
   },
   "outputs": [],
   "source": [
    "# on importe pandas avec :\n",
    "import pandas as pd\n",
    "import numpy as np\n",
    "import matplotlib.pyplot as plt\n",
    "%matplotlib inline"
   ]
  },
  {
   "cell_type": "markdown",
   "metadata": {
    "slideshow": {
     "slide_type": "slide"
    }
   },
   "source": [
    "# Les Series de Pandas\n",
    "\n",
    "- Les Series sont indexées, c'est leur avantage sur les arrays de NumPy\n",
    "- On peut utiliser les fonctions `.values` et `.index` pour voir les différentes parties de chaque Series\n",
    "- On définit une Series par `pd.Series([,], index=['','',])`\n",
    "- On peut appeler un élément avec `ma_serie['France']`\n",
    "- On peut aussi faire des conditions :\n",
    "```python\n",
    "ma_serie[ma_serie>5000000]\n",
    "```\n",
    "```\n",
    "'France' in ma_serie\n",
    "```\n",
    "- Les objets Series peuvent être transformés en dictionnaires en utilisant :\n",
    "`.to_dict()`"
   ]
  },
  {
   "cell_type": "markdown",
   "metadata": {
    "slideshow": {
     "slide_type": "subslide"
    }
   },
   "source": [
    "**Exercice :**\n",
    "    \n",
    "Définir un objet Series comprenant la population de 5 pays puis afficher les pays ayant une population > 50’000’000.\n"
   ]
  },
  {
   "cell_type": "code",
   "execution_count": 2,
   "metadata": {},
   "outputs": [],
   "source": [
    "ser_pop = pd.Series([70,8,300,1200],index=[\"France\",\"Suisse\",\"USA\",\"Chine\"])"
   ]
  },
  {
   "cell_type": "code",
   "execution_count": 3,
   "metadata": {},
   "outputs": [
    {
     "data": {
      "text/plain": [
       "France      70\n",
       "Suisse       8\n",
       "USA        300\n",
       "Chine     1200\n",
       "dtype: int64"
      ]
     },
     "execution_count": 3,
     "metadata": {},
     "output_type": "execute_result"
    }
   ],
   "source": [
    "ser_pop"
   ]
  },
  {
   "cell_type": "code",
   "execution_count": 4,
   "metadata": {},
   "outputs": [
    {
     "data": {
      "text/plain": [
       "70"
      ]
     },
     "execution_count": 4,
     "metadata": {},
     "output_type": "execute_result"
    }
   ],
   "source": [
    "# extraire un individu\n",
    "ser_pop[\"France\"]"
   ]
  },
  {
   "cell_type": "code",
   "execution_count": 5,
   "metadata": {},
   "outputs": [
    {
     "data": {
      "text/plain": [
       "70"
      ]
     },
     "execution_count": 5,
     "metadata": {},
     "output_type": "execute_result"
    }
   ],
   "source": [
    "# extraire un individu par position\n",
    "ser_pop.iloc[0]"
   ]
  },
  {
   "cell_type": "code",
   "execution_count": 6,
   "metadata": {},
   "outputs": [
    {
     "data": {
      "text/plain": [
       "Suisse    8\n",
       "dtype: int64"
      ]
     },
     "execution_count": 6,
     "metadata": {},
     "output_type": "execute_result"
    }
   ],
   "source": [
    "# extraire les pays avec moins de 50M\n",
    "ser_pop[ser_pop<50]"
   ]
  },
  {
   "cell_type": "markdown",
   "metadata": {
    "slideshow": {
     "slide_type": "subslide"
    }
   },
   "source": [
    "# D'autres opérations sur les objets series\n",
    "\n",
    "- Pour définir le nom de la Series, on utilise `.name`\n",
    "- Pour définir le titre de la colonne des observations, on utilise `.index.name`"
   ]
  },
  {
   "cell_type": "markdown",
   "metadata": {
    "slideshow": {
     "slide_type": "subslide"
    }
   },
   "source": [
    "**Exercice :**\n",
    "    \n",
    "Définir les noms de l’objet et de la colonne des pays pour la Series précédente\n"
   ]
  },
  {
   "cell_type": "code",
   "execution_count": 7,
   "metadata": {},
   "outputs": [
    {
     "data": {
      "text/plain": [
       "Pays\n",
       "France      70\n",
       "Suisse       8\n",
       "USA        300\n",
       "Chine     1200\n",
       "Name: Populations, dtype: int64"
      ]
     },
     "execution_count": 7,
     "metadata": {},
     "output_type": "execute_result"
    }
   ],
   "source": [
    "ser_pop.name = \"Populations\"\n",
    "ser_pop.index.name = \"Pays\"\n",
    "ser_pop"
   ]
  },
  {
   "cell_type": "markdown",
   "metadata": {
    "slideshow": {
     "slide_type": "subslide"
    }
   },
   "source": [
    "# Les données manquantes\n",
    "\n",
    "Dans pandas, les données manquantes sont identifiés avec les fonctions de Numpy (`np.nan`). On a d'autres fonctions telles que :"
   ]
  },
  {
   "cell_type": "code",
   "execution_count": 8,
   "metadata": {
    "slideshow": {
     "slide_type": "fragment"
    }
   },
   "outputs": [
    {
     "data": {
      "text/plain": [
       "a    False\n",
       "b     True\n",
       "c    False\n",
       "dtype: bool"
      ]
     },
     "execution_count": 8,
     "metadata": {},
     "output_type": "execute_result"
    }
   ],
   "source": [
    "pd.isna(pd.Series([2,np.nan,4],index=['a','b','c']))"
   ]
  },
  {
   "cell_type": "code",
   "execution_count": 9,
   "metadata": {
    "slideshow": {
     "slide_type": "fragment"
    }
   },
   "outputs": [
    {
     "data": {
      "text/plain": [
       "a     True\n",
       "b    False\n",
       "c     True\n",
       "dtype: bool"
      ]
     },
     "execution_count": 9,
     "metadata": {},
     "output_type": "execute_result"
    }
   ],
   "source": [
    "pd.notna(pd.Series([2,np.nan,4],index=['a','b','c']))"
   ]
  },
  {
   "cell_type": "markdown",
   "metadata": {
    "slideshow": {
     "slide_type": "slide"
    }
   },
   "source": [
    "# Les dates avec pandas\n",
    "\n",
    "- Python possède un module datetime qui permet de gérer facilement des dates\n",
    "- Pandas permet d'appliquer les opérations sur les dates aux Series et aux DataFrame\n",
    "- Le format es dates Python est `YYYY-MM-DD HH:MM:SS`\n",
    "\n",
    "- On peut générer des dates avec la fonction `pd.date_range()` avec différente fréquences `freq=`\n",
    "- On peut utiliser ces dates comme index dans un DataFrame ou dans un objet Series\n",
    "- On peut changer la fréquence en utilisant `.asfreq()`\n",
    "- Pour transformer une chaine de caractère en date, on utilise `pd.to_datetime()` avec l’option `dayfirst=True` si on est dans le cas français\n",
    "-On pourra aussi spécifier un format pour accélérer le processus `%Y%m%d`"
   ]
  },
  {
   "cell_type": "markdown",
   "metadata": {
    "slideshow": {
     "slide_type": "subslide"
    }
   },
   "source": [
    "**Exercice :**\n",
    "\n",
    "Créez un objet Series et ajoutez des dates partant du 3 octobre 2017 par jour jusqu’à aujourd’hui. Afficher le résultat dans un graphique (on utilisera la méthode `.plot()`"
   ]
  },
  {
   "cell_type": "code",
   "execution_count": 10,
   "metadata": {
    "slideshow": {
     "slide_type": "fragment"
    }
   },
   "outputs": [
    {
     "data": {
      "image/png": "[encoded data removed]",
      "text/plain": [
       "<Figure size 432x288 with 1 Axes>"
      ]
     },
     "metadata": {
      "needs_background": "light"
     },
     "output_type": "display_data"
    }
   ],
   "source": [
    "import datetime\n",
    "dates = pd.date_range(start=\"2017-10-03\",end=datetime.date.today(),freq=\"d\")\n",
    "ser_date = pd.Series(np.random.randn(len(dates)),index=dates)\n",
    "ser_date.plot()\n",
    "plt.savefig(\"mon_graphique.jpg\")"
   ]
  },
  {
   "cell_type": "markdown",
   "metadata": {
    "slideshow": {
     "slide_type": "slide"
    }
   },
   "source": [
    "# Le DataFrame \n",
    "\n",
    "- Les DataFrame sont des objets très souples pouvant être construits de différentes façon\n",
    "- On peut les construire en récupérant des données copier / coller, où directement sur Internet, ou en entrant les valeurs manuellement\n",
    "\n",
    "\n",
    "- Les DataFrame se rapprochent des dictionnaires et on peut construire ces objets en utilisant `DataFrame(dico)`\n",
    "- De nombreux détails sur la création des DataFrame se trouve sur ce site :\n",
    "\n",
    "<http://pandas.pydata.org/pandas-docs/dev/generated/pandas.DataFrame.html>\n"
   ]
  },
  {
   "cell_type": "markdown",
   "metadata": {
    "slideshow": {
     "slide_type": "subslide"
    }
   },
   "source": [
    "# Construction de DataFrame\n",
    "\n",
    "On peut simplement construire un DataFrame avec le classe pd.DataFrame() à partir de différentes structures :"
   ]
  },
  {
   "cell_type": "code",
   "execution_count": 11,
   "metadata": {
    "slideshow": {
     "slide_type": "fragment"
    }
   },
   "outputs": [
    {
     "data": {
      "text/html": [
       "<div>\n",
       "<style scoped>\n",
       "    .dataframe tbody tr th:only-of-type {\n",
       "        vertical-align: middle;\n",
       "    }\n",
       "\n",
       "    .dataframe tbody tr th {\n",
       "        vertical-align: top;\n",
       "    }\n",
       "\n",
       "    .dataframe thead th {\n",
       "        text-align: right;\n",
       "    }\n",
       "</style>\n",
       "<table border=\"1\" class=\"dataframe\">\n",
       "  <thead>\n",
       "    <tr style=\"text-align: right;\">\n",
       "      <th></th>\n",
       "      <th>col_0</th>\n",
       "      <th>col_1</th>\n",
       "    </tr>\n",
       "  </thead>\n",
       "  <tbody>\n",
       "    <tr>\n",
       "      <th>obs_0</th>\n",
       "      <td>1.750275</td>\n",
       "      <td>-2.580394</td>\n",
       "    </tr>\n",
       "    <tr>\n",
       "      <th>obs_1</th>\n",
       "      <td>0.385944</td>\n",
       "      <td>1.677378</td>\n",
       "    </tr>\n",
       "    <tr>\n",
       "      <th>obs_2</th>\n",
       "      <td>0.811410</td>\n",
       "      <td>0.161821</td>\n",
       "    </tr>\n",
       "    <tr>\n",
       "      <th>obs_3</th>\n",
       "      <td>1.036269</td>\n",
       "      <td>-0.091300</td>\n",
       "    </tr>\n",
       "    <tr>\n",
       "      <th>obs_4</th>\n",
       "      <td>0.571832</td>\n",
       "      <td>-1.281828</td>\n",
       "    </tr>\n",
       "  </tbody>\n",
       "</table>\n",
       "</div>"
      ],
      "text/plain": [
       "          col_0     col_1\n",
       "obs_0  1.750275 -2.580394\n",
       "obs_1  0.385944  1.677378\n",
       "obs_2  0.811410  0.161821\n",
       "obs_3  1.036269 -0.091300\n",
       "obs_4  0.571832 -1.281828"
      ]
     },
     "execution_count": 11,
     "metadata": {},
     "output_type": "execute_result"
    }
   ],
   "source": [
    "frame1=pd.DataFrame(np.random.randn(10).reshape(5,2),\n",
    "             index=[\"obs_\"+str(i) for i in range(5)],\n",
    "             columns=[\"col_\"+str(i) for i in range(2)])\n",
    "frame1"
   ]
  },
  {
   "cell_type": "markdown",
   "metadata": {
    "slideshow": {
     "slide_type": "subslide"
    }
   },
   "source": [
    "# Opérations sur les DataFrame\n",
    "\n",
    "On peut afficher le nom des colonnes :"
   ]
  },
  {
   "cell_type": "code",
   "execution_count": 12,
   "metadata": {
    "slideshow": {
     "slide_type": "fragment"
    }
   },
   "outputs": [
    {
     "name": "stdout",
     "output_type": "stream",
     "text": [
      "Index(['col_0', 'col_1'], dtype='object')\n"
     ]
    }
   ],
   "source": [
    "print(frame1.columns)"
   ]
  },
  {
   "cell_type": "markdown",
   "metadata": {
    "slideshow": {
     "slide_type": "fragment"
    }
   },
   "source": [
    "On peut accéder à une colonne avec :\n",
    "- `frame1.col_0` : attention au cas de nom de colonnes avec des espaces...\n",
    "- `frame1['col_0']`\n",
    "\n",
    "On peut accéder à une cellule avec :\n",
    "- `frame1.loc['obs1','col_0']` : on utilise les index et le nom des colonnes\n",
    "- `frame1.iloc[1,0]` : on utilise les positions dans le DataFrame\n"
   ]
  },
  {
   "cell_type": "markdown",
   "metadata": {
    "slideshow": {
     "slide_type": "subslide"
    }
   },
   "source": [
    "# Options de visualisation et de résumé\n",
    "\n",
    "Pour afficher les 3 premières lignes, on peut utiliser :\n"
   ]
  },
  {
   "cell_type": "code",
   "execution_count": 13,
   "metadata": {
    "slideshow": {
     "slide_type": "fragment"
    }
   },
   "outputs": [
    {
     "data": {
      "text/html": [
       "<div>\n",
       "<style scoped>\n",
       "    .dataframe tbody tr th:only-of-type {\n",
       "        vertical-align: middle;\n",
       "    }\n",
       "\n",
       "    .dataframe tbody tr th {\n",
       "        vertical-align: top;\n",
       "    }\n",
       "\n",
       "    .dataframe thead th {\n",
       "        text-align: right;\n",
       "    }\n",
       "</style>\n",
       "<table border=\"1\" class=\"dataframe\">\n",
       "  <thead>\n",
       "    <tr style=\"text-align: right;\">\n",
       "      <th></th>\n",
       "      <th>col_0</th>\n",
       "      <th>col_1</th>\n",
       "    </tr>\n",
       "  </thead>\n",
       "  <tbody>\n",
       "    <tr>\n",
       "      <th>obs_0</th>\n",
       "      <td>1.750275</td>\n",
       "      <td>-2.580394</td>\n",
       "    </tr>\n",
       "    <tr>\n",
       "      <th>obs_1</th>\n",
       "      <td>0.385944</td>\n",
       "      <td>1.677378</td>\n",
       "    </tr>\n",
       "    <tr>\n",
       "      <th>obs_2</th>\n",
       "      <td>0.811410</td>\n",
       "      <td>0.161821</td>\n",
       "    </tr>\n",
       "  </tbody>\n",
       "</table>\n",
       "</div>"
      ],
      "text/plain": [
       "          col_0     col_1\n",
       "obs_0  1.750275 -2.580394\n",
       "obs_1  0.385944  1.677378\n",
       "obs_2  0.811410  0.161821"
      ]
     },
     "execution_count": 13,
     "metadata": {},
     "output_type": "execute_result"
    }
   ],
   "source": [
    "frame1.head(3)"
   ]
  },
  {
   "cell_type": "markdown",
   "metadata": {
    "slideshow": {
     "slide_type": "subslide"
    }
   },
   "source": [
    "Pour afficher un résumé du DF :"
   ]
  },
  {
   "cell_type": "code",
   "execution_count": 14,
   "metadata": {
    "slideshow": {
     "slide_type": "fragment"
    }
   },
   "outputs": [
    {
     "name": "stdout",
     "output_type": "stream",
     "text": [
      "<class 'pandas.core.frame.DataFrame'>\n",
      "Index: 5 entries, obs_0 to obs_4\n",
      "Data columns (total 2 columns):\n",
      " #   Column  Non-Null Count  Dtype  \n",
      "---  ------  --------------  -----  \n",
      " 0   col_0   5 non-null      float64\n",
      " 1   col_1   5 non-null      float64\n",
      "dtypes: float64(2)\n",
      "memory usage: 120.0+ bytes\n"
     ]
    }
   ],
   "source": [
    "frame1.info()"
   ]
  },
  {
   "cell_type": "markdown",
   "metadata": {
    "slideshow": {
     "slide_type": "slide"
    }
   },
   "source": [
    "# Importer des données externes\n",
    "\n",
    "Pandas est l'outil le plus efficace pour importer des données externes, il prend en charge de nombreux formats dont csv, Excel, SQL, SAS...\n",
    "\n",
    "\n",
    "## Importation de données avec Pandas\n",
    "\n",
    "Quel que soit le type de fichier, Pandas possède une fonction :\n",
    "```python\n",
    "frame=pd.read_...('chemin_du_fichier/nom_du_fichier',...)\n",
    "```\n",
    "Pour écrire un DataFrame dans un fichier, on utilise :\n",
    "```python\n",
    "frame.to_...('chemin_du_fichier/nom_du_fichier',...)\n",
    "```"
   ]
  },
  {
   "cell_type": "markdown",
   "metadata": {
    "slideshow": {
     "slide_type": "subslide"
    }
   },
   "source": [
    "**Exercice :**\n",
    "    \n",
    "Importer un fichier `.csv` avec `pd.read_csv()`. On utilisera le fichier \"./data/airbnb.csv\""
   ]
  },
  {
   "cell_type": "code",
   "execution_count": 15,
   "metadata": {},
   "outputs": [
    {
     "name": "stderr",
     "output_type": "stream",
     "text": [
      "C:\\Users\\s4d-asus-14\\Anaconda3\\lib\\site-packages\\IPython\\core\\interactiveshell.py:3063: DtypeWarning: Columns (43,61,62) have mixed types.Specify dtype option on import or set low_memory=False.\n",
      "  interactivity=interactivity, compiler=compiler, result=result)\n"
     ]
    }
   ],
   "source": [
    "airbnb = pd.read_csv(\"./data/airbnb.csv\")"
   ]
  },
  {
   "cell_type": "code",
   "execution_count": 16,
   "metadata": {},
   "outputs": [
    {
     "data": {
      "text/html": [
       "<div>\n",
       "<style scoped>\n",
       "    .dataframe tbody tr th:only-of-type {\n",
       "        vertical-align: middle;\n",
       "    }\n",
       "\n",
       "    .dataframe tbody tr th {\n",
       "        vertical-align: top;\n",
       "    }\n",
       "\n",
       "    .dataframe thead th {\n",
       "        text-align: right;\n",
       "    }\n",
       "</style>\n",
       "<table border=\"1\" class=\"dataframe\">\n",
       "  <thead>\n",
       "    <tr style=\"text-align: right;\">\n",
       "      <th></th>\n",
       "      <th>id</th>\n",
       "      <th>listing_url</th>\n",
       "      <th>scrape_id</th>\n",
       "      <th>last_scraped</th>\n",
       "      <th>name</th>\n",
       "      <th>summary</th>\n",
       "      <th>space</th>\n",
       "      <th>description</th>\n",
       "      <th>experiences_offered</th>\n",
       "      <th>neighborhood_overview</th>\n",
       "      <th>...</th>\n",
       "      <th>instant_bookable</th>\n",
       "      <th>is_business_travel_ready</th>\n",
       "      <th>cancellation_policy</th>\n",
       "      <th>require_guest_profile_picture</th>\n",
       "      <th>require_guest_phone_verification</th>\n",
       "      <th>calculated_host_listings_count</th>\n",
       "      <th>calculated_host_listings_count_entire_homes</th>\n",
       "      <th>calculated_host_listings_count_private_rooms</th>\n",
       "      <th>calculated_host_listings_count_shared_rooms</th>\n",
       "      <th>reviews_per_month</th>\n",
       "    </tr>\n",
       "  </thead>\n",
       "  <tbody>\n",
       "    <tr>\n",
       "      <th>0</th>\n",
       "      <td>3109</td>\n",
       "      <td>https://www.airbnb.com/rooms/3109</td>\n",
       "      <td>20190507030954</td>\n",
       "      <td>2019-05-07</td>\n",
       "      <td>zen and calm</td>\n",
       "      <td>Appartement très calme de 50M2 Utilisation de ...</td>\n",
       "      <td>I bedroom appartment in Paris 14</td>\n",
       "      <td>I bedroom appartment in Paris 14 Good restaura...</td>\n",
       "      <td>none</td>\n",
       "      <td>Good restaurants very close the Montparnasse S...</td>\n",
       "      <td>...</td>\n",
       "      <td>f</td>\n",
       "      <td>f</td>\n",
       "      <td>flexible</td>\n",
       "      <td>f</td>\n",
       "      <td>f</td>\n",
       "      <td>1</td>\n",
       "      <td>1</td>\n",
       "      <td>0</td>\n",
       "      <td>0</td>\n",
       "      <td>0.28</td>\n",
       "    </tr>\n",
       "    <tr>\n",
       "      <th>1</th>\n",
       "      <td>5396</td>\n",
       "      <td>https://www.airbnb.com/rooms/5396</td>\n",
       "      <td>20190507030954</td>\n",
       "      <td>2019-05-08</td>\n",
       "      <td>Explore the heart of old Paris</td>\n",
       "      <td>Cozy, well-appointed and graciously designed s...</td>\n",
       "      <td>Small, well appointed studio apartment at the ...</td>\n",
       "      <td>Cozy, well-appointed and graciously designed s...</td>\n",
       "      <td>none</td>\n",
       "      <td>You are within walking distance to the Louvre,...</td>\n",
       "      <td>...</td>\n",
       "      <td>t</td>\n",
       "      <td>f</td>\n",
       "      <td>strict_14_with_grace_period</td>\n",
       "      <td>f</td>\n",
       "      <td>f</td>\n",
       "      <td>1</td>\n",
       "      <td>1</td>\n",
       "      <td>0</td>\n",
       "      <td>0</td>\n",
       "      <td>1.44</td>\n",
       "    </tr>\n",
       "    <tr>\n",
       "      <th>2</th>\n",
       "      <td>7397</td>\n",
       "      <td>https://www.airbnb.com/rooms/7397</td>\n",
       "      <td>20190507030954</td>\n",
       "      <td>2019-05-07</td>\n",
       "      <td>MARAIS - 2ROOMS APT - 2/4 PEOPLE</td>\n",
       "      <td>VERY CONVENIENT, WITH THE BEST LOCATION !</td>\n",
       "      <td>PLEASE ASK ME BEFORE TO MAKE A REQUEST !!! No ...</td>\n",
       "      <td>VERY CONVENIENT, WITH THE BEST LOCATION ! PLEA...</td>\n",
       "      <td>none</td>\n",
       "      <td>NaN</td>\n",
       "      <td>...</td>\n",
       "      <td>f</td>\n",
       "      <td>f</td>\n",
       "      <td>moderate</td>\n",
       "      <td>f</td>\n",
       "      <td>f</td>\n",
       "      <td>1</td>\n",
       "      <td>1</td>\n",
       "      <td>0</td>\n",
       "      <td>0</td>\n",
       "      <td>2.47</td>\n",
       "    </tr>\n",
       "    <tr>\n",
       "      <th>3</th>\n",
       "      <td>8522</td>\n",
       "      <td>https://www.airbnb.com/rooms/8522</td>\n",
       "      <td>20190507030954</td>\n",
       "      <td>2019-05-08</td>\n",
       "      <td>GREAT FLAT w/ CITY VIEW</td>\n",
       "      <td>NaN</td>\n",
       "      <td>Really nice flat located in the 20th district ...</td>\n",
       "      <td>Really nice flat located in the 20th district ...</td>\n",
       "      <td>none</td>\n",
       "      <td>NaN</td>\n",
       "      <td>...</td>\n",
       "      <td>f</td>\n",
       "      <td>f</td>\n",
       "      <td>moderate</td>\n",
       "      <td>f</td>\n",
       "      <td>f</td>\n",
       "      <td>1</td>\n",
       "      <td>1</td>\n",
       "      <td>0</td>\n",
       "      <td>0</td>\n",
       "      <td>0.01</td>\n",
       "    </tr>\n",
       "    <tr>\n",
       "      <th>4</th>\n",
       "      <td>9359</td>\n",
       "      <td>https://www.airbnb.com/rooms/9359</td>\n",
       "      <td>20190507030954</td>\n",
       "      <td>2019-05-07</td>\n",
       "      <td>Cozy, Central Paris: WALK or VELIB EVERYWHERE !</td>\n",
       "      <td>Location! Location! Location! Just bring your ...</td>\n",
       "      <td>Since I live in the USA, it is difficult to ma...</td>\n",
       "      <td>Location! Location! Location! Just bring your ...</td>\n",
       "      <td>none</td>\n",
       "      <td>NaN</td>\n",
       "      <td>...</td>\n",
       "      <td>f</td>\n",
       "      <td>f</td>\n",
       "      <td>strict_14_with_grace_period</td>\n",
       "      <td>t</td>\n",
       "      <td>t</td>\n",
       "      <td>1</td>\n",
       "      <td>1</td>\n",
       "      <td>0</td>\n",
       "      <td>0</td>\n",
       "      <td>NaN</td>\n",
       "    </tr>\n",
       "  </tbody>\n",
       "</table>\n",
       "<p>5 rows × 106 columns</p>\n",
       "</div>"
      ],
      "text/plain": [
       "     id                        listing_url       scrape_id last_scraped  \\\n",
       "0  3109  https://www.airbnb.com/rooms/3109  20190507030954   2019-05-07   \n",
       "1  5396  https://www.airbnb.com/rooms/5396  20190507030954   2019-05-08   \n",
       "2  7397  https://www.airbnb.com/rooms/7397  20190507030954   2019-05-07   \n",
       "3  8522  https://www.airbnb.com/rooms/8522  20190507030954   2019-05-08   \n",
       "4  9359  https://www.airbnb.com/rooms/9359  20190507030954   2019-05-07   \n",
       "\n",
       "                                              name  \\\n",
       "0                                     zen and calm   \n",
       "1                   Explore the heart of old Paris   \n",
       "2                 MARAIS - 2ROOMS APT - 2/4 PEOPLE   \n",
       "3                          GREAT FLAT w/ CITY VIEW   \n",
       "4  Cozy, Central Paris: WALK or VELIB EVERYWHERE !   \n",
       "\n",
       "                                             summary  \\\n",
       "0  Appartement très calme de 50M2 Utilisation de ...   \n",
       "1  Cozy, well-appointed and graciously designed s...   \n",
       "2          VERY CONVENIENT, WITH THE BEST LOCATION !   \n",
       "3                                                NaN   \n",
       "4  Location! Location! Location! Just bring your ...   \n",
       "\n",
       "                                               space  \\\n",
       "0                   I bedroom appartment in Paris 14   \n",
       "1  Small, well appointed studio apartment at the ...   \n",
       "2  PLEASE ASK ME BEFORE TO MAKE A REQUEST !!! No ...   \n",
       "3  Really nice flat located in the 20th district ...   \n",
       "4  Since I live in the USA, it is difficult to ma...   \n",
       "\n",
       "                                         description experiences_offered  \\\n",
       "0  I bedroom appartment in Paris 14 Good restaura...                none   \n",
       "1  Cozy, well-appointed and graciously designed s...                none   \n",
       "2  VERY CONVENIENT, WITH THE BEST LOCATION ! PLEA...                none   \n",
       "3  Really nice flat located in the 20th district ...                none   \n",
       "4  Location! Location! Location! Just bring your ...                none   \n",
       "\n",
       "                               neighborhood_overview  ... instant_bookable  \\\n",
       "0  Good restaurants very close the Montparnasse S...  ...                f   \n",
       "1  You are within walking distance to the Louvre,...  ...                t   \n",
       "2                                                NaN  ...                f   \n",
       "3                                                NaN  ...                f   \n",
       "4                                                NaN  ...                f   \n",
       "\n",
       "  is_business_travel_ready          cancellation_policy  \\\n",
       "0                        f                     flexible   \n",
       "1                        f  strict_14_with_grace_period   \n",
       "2                        f                     moderate   \n",
       "3                        f                     moderate   \n",
       "4                        f  strict_14_with_grace_period   \n",
       "\n",
       "  require_guest_profile_picture require_guest_phone_verification  \\\n",
       "0                             f                                f   \n",
       "1                             f                                f   \n",
       "2                             f                                f   \n",
       "3                             f                                f   \n",
       "4                             t                                t   \n",
       "\n",
       "   calculated_host_listings_count  \\\n",
       "0                               1   \n",
       "1                               1   \n",
       "2                               1   \n",
       "3                               1   \n",
       "4                               1   \n",
       "\n",
       "   calculated_host_listings_count_entire_homes  \\\n",
       "0                                            1   \n",
       "1                                            1   \n",
       "2                                            1   \n",
       "3                                            1   \n",
       "4                                            1   \n",
       "\n",
       "  calculated_host_listings_count_private_rooms  \\\n",
       "0                                            0   \n",
       "1                                            0   \n",
       "2                                            0   \n",
       "3                                            0   \n",
       "4                                            0   \n",
       "\n",
       "   calculated_host_listings_count_shared_rooms  reviews_per_month  \n",
       "0                                            0               0.28  \n",
       "1                                            0               1.44  \n",
       "2                                            0               2.47  \n",
       "3                                            0               0.01  \n",
       "4                                            0                NaN  \n",
       "\n",
       "[5 rows x 106 columns]"
      ]
     },
     "execution_count": 16,
     "metadata": {},
     "output_type": "execute_result"
    }
   ],
   "source": [
    "airbnb.head()"
   ]
  },
  {
   "cell_type": "code",
   "execution_count": 17,
   "metadata": {},
   "outputs": [
    {
     "name": "stdout",
     "output_type": "stream",
     "text": [
      "<class 'pandas.core.frame.DataFrame'>\n",
      "RangeIndex: 59126 entries, 0 to 59125\n",
      "Data columns (total 106 columns):\n",
      " #   Column                                        Dtype  \n",
      "---  ------                                        -----  \n",
      " 0   id                                            int64  \n",
      " 1   listing_url                                   object \n",
      " 2   scrape_id                                     int64  \n",
      " 3   last_scraped                                  object \n",
      " 4   name                                          object \n",
      " 5   summary                                       object \n",
      " 6   space                                         object \n",
      " 7   description                                   object \n",
      " 8   experiences_offered                           object \n",
      " 9   neighborhood_overview                         object \n",
      " 10  notes                                         object \n",
      " 11  transit                                       object \n",
      " 12  access                                        object \n",
      " 13  interaction                                   object \n",
      " 14  house_rules                                   object \n",
      " 15  thumbnail_url                                 float64\n",
      " 16  medium_url                                    float64\n",
      " 17  picture_url                                   object \n",
      " 18  xl_picture_url                                float64\n",
      " 19  host_id                                       int64  \n",
      " 20  host_url                                      object \n",
      " 21  host_name                                     object \n",
      " 22  host_since                                    object \n",
      " 23  host_location                                 object \n",
      " 24  host_about                                    object \n",
      " 25  host_response_time                            object \n",
      " 26  host_response_rate                            object \n",
      " 27  host_acceptance_rate                          float64\n",
      " 28  host_is_superhost                             object \n",
      " 29  host_thumbnail_url                            object \n",
      " 30  host_picture_url                              object \n",
      " 31  host_neighbourhood                            object \n",
      " 32  host_listings_count                           float64\n",
      " 33  host_total_listings_count                     float64\n",
      " 34  host_verifications                            object \n",
      " 35  host_has_profile_pic                          object \n",
      " 36  host_identity_verified                        object \n",
      " 37  street                                        object \n",
      " 38  neighbourhood                                 object \n",
      " 39  neighbourhood_cleansed                        object \n",
      " 40  neighbourhood_group_cleansed                  float64\n",
      " 41  city                                          object \n",
      " 42  state                                         object \n",
      " 43  zipcode                                       object \n",
      " 44  market                                        object \n",
      " 45  smart_location                                object \n",
      " 46  country_code                                  object \n",
      " 47  country                                       object \n",
      " 48  latitude                                      float64\n",
      " 49  longitude                                     float64\n",
      " 50  is_location_exact                             object \n",
      " 51  property_type                                 object \n",
      " 52  room_type                                     object \n",
      " 53  accommodates                                  int64  \n",
      " 54  bathrooms                                     float64\n",
      " 55  bedrooms                                      float64\n",
      " 56  beds                                          float64\n",
      " 57  bed_type                                      object \n",
      " 58  amenities                                     object \n",
      " 59  square_feet                                   float64\n",
      " 60  price                                         object \n",
      " 61  weekly_price                                  object \n",
      " 62  monthly_price                                 object \n",
      " 63  security_deposit                              object \n",
      " 64  cleaning_fee                                  object \n",
      " 65  guests_included                               int64  \n",
      " 66  extra_people                                  object \n",
      " 67  minimum_nights                                int64  \n",
      " 68  maximum_nights                                int64  \n",
      " 69  minimum_minimum_nights                        int64  \n",
      " 70  maximum_minimum_nights                        int64  \n",
      " 71  minimum_maximum_nights                        int64  \n",
      " 72  maximum_maximum_nights                        int64  \n",
      " 73  minimum_nights_avg_ntm                        float64\n",
      " 74  maximum_nights_avg_ntm                        float64\n",
      " 75  calendar_updated                              object \n",
      " 76  has_availability                              object \n",
      " 77  availability_30                               int64  \n",
      " 78  availability_60                               int64  \n",
      " 79  availability_90                               int64  \n",
      " 80  availability_365                              int64  \n",
      " 81  calendar_last_scraped                         object \n",
      " 82  number_of_reviews                             int64  \n",
      " 83  number_of_reviews_ltm                         int64  \n",
      " 84  first_review                                  object \n",
      " 85  last_review                                   object \n",
      " 86  review_scores_rating                          float64\n",
      " 87  review_scores_accuracy                        float64\n",
      " 88  review_scores_cleanliness                     float64\n",
      " 89  review_scores_checkin                         float64\n",
      " 90  review_scores_communication                   float64\n",
      " 91  review_scores_location                        float64\n",
      " 92  review_scores_value                           float64\n",
      " 93  requires_license                              object \n",
      " 94  license                                       object \n",
      " 95  jurisdiction_names                            object \n",
      " 96  instant_bookable                              object \n",
      " 97  is_business_travel_ready                      object \n",
      " 98  cancellation_policy                           object \n",
      " 99  require_guest_profile_picture                 object \n",
      " 100 require_guest_phone_verification              object \n",
      " 101 calculated_host_listings_count                int64  \n",
      " 102 calculated_host_listings_count_entire_homes   int64  \n",
      " 103 calculated_host_listings_count_private_rooms  int64  \n",
      " 104 calculated_host_listings_count_shared_rooms   int64  \n",
      " 105 reviews_per_month                             float64\n",
      "dtypes: float64(23), int64(21), object(62)\n",
      "memory usage: 47.8+ MB\n"
     ]
    }
   ],
   "source": [
    "airbnb.info(verbose=1)"
   ]
  },
  {
   "cell_type": "code",
   "execution_count": 18,
   "metadata": {},
   "outputs": [
    {
     "data": {
      "text/plain": [
       "0         $75.00\n",
       "1        $115.00\n",
       "2        $115.00\n",
       "3         $90.00\n",
       "4         $75.00\n",
       "          ...   \n",
       "59121     $50.00\n",
       "59122    $350.00\n",
       "59123     $80.00\n",
       "59124     $32.00\n",
       "59125     $60.00\n",
       "Name: price, Length: 59126, dtype: object"
      ]
     },
     "execution_count": 18,
     "metadata": {},
     "output_type": "execute_result"
    }
   ],
   "source": [
    "# extraire une colonne\n",
    "airbnb[\"price\"]"
   ]
  },
  {
   "cell_type": "markdown",
   "metadata": {
    "slideshow": {
     "slide_type": "subslide"
    }
   },
   "source": [
    "# D'autres types de données\n",
    "\n",
    "## JSON\n",
    "Les objets JSON ressemblent à des dictionnaires.\n",
    "\n",
    "On utilise le module `json` puis la fonction `json.loads()` pour transformer une entrée JSON en objet json\n",
    "\n",
    "## HTML\n",
    "On utilise `pd.read_html(url)`. Cet fonction est basée sur les packages `beautifulsoup` et `html5lib`\n",
    "\n",
    "Cette fonction renvoie une liste de DataFrame qui représentent tous les DataFrame de la page. On ira ensuite chercher l'élément qui nous intéresse avec `frame_list[0]`"
   ]
  },
  {
   "cell_type": "markdown",
   "metadata": {
    "slideshow": {
     "slide_type": "subslide"
    }
   },
   "source": [
    "**Exercice :**\n",
    "    \n",
    "Importez un tableau en html depuis la page <http://www.fdic.gov/bank/individual/failed/banklist.html>"
   ]
  },
  {
   "cell_type": "code",
   "execution_count": 19,
   "metadata": {},
   "outputs": [],
   "source": [
    "bank = pd.read_html(\"http://www.fdic.gov/bank/individual/failed/banklist.html\")"
   ]
  },
  {
   "cell_type": "code",
   "execution_count": 20,
   "metadata": {},
   "outputs": [
    {
     "data": {
      "text/html": [
       "<div>\n",
       "<style scoped>\n",
       "    .dataframe tbody tr th:only-of-type {\n",
       "        vertical-align: middle;\n",
       "    }\n",
       "\n",
       "    .dataframe tbody tr th {\n",
       "        vertical-align: top;\n",
       "    }\n",
       "\n",
       "    .dataframe thead th {\n",
       "        text-align: right;\n",
       "    }\n",
       "</style>\n",
       "<table border=\"1\" class=\"dataframe\">\n",
       "  <thead>\n",
       "    <tr style=\"text-align: right;\">\n",
       "      <th></th>\n",
       "      <th>Bank Name</th>\n",
       "      <th>City</th>\n",
       "      <th>ST</th>\n",
       "      <th>CERT</th>\n",
       "      <th>Acquiring Institution</th>\n",
       "      <th>Closing Date</th>\n",
       "    </tr>\n",
       "  </thead>\n",
       "  <tbody>\n",
       "    <tr>\n",
       "      <th>0</th>\n",
       "      <td>City National Bank of New Jersey</td>\n",
       "      <td>Newark</td>\n",
       "      <td>NJ</td>\n",
       "      <td>21111</td>\n",
       "      <td>Industrial Bank</td>\n",
       "      <td>November 1, 2019</td>\n",
       "    </tr>\n",
       "    <tr>\n",
       "      <th>1</th>\n",
       "      <td>Resolute Bank</td>\n",
       "      <td>Maumee</td>\n",
       "      <td>OH</td>\n",
       "      <td>58317</td>\n",
       "      <td>Buckeye State Bank</td>\n",
       "      <td>October 25, 2019</td>\n",
       "    </tr>\n",
       "    <tr>\n",
       "      <th>2</th>\n",
       "      <td>Louisa Community Bank</td>\n",
       "      <td>Louisa</td>\n",
       "      <td>KY</td>\n",
       "      <td>58112</td>\n",
       "      <td>Kentucky Farmers Bank Corporation</td>\n",
       "      <td>October 25, 2019</td>\n",
       "    </tr>\n",
       "    <tr>\n",
       "      <th>3</th>\n",
       "      <td>The Enloe State Bank</td>\n",
       "      <td>Cooper</td>\n",
       "      <td>TX</td>\n",
       "      <td>10716</td>\n",
       "      <td>Legend Bank, N. A.</td>\n",
       "      <td>May 31, 2019</td>\n",
       "    </tr>\n",
       "    <tr>\n",
       "      <th>4</th>\n",
       "      <td>Washington Federal Bank for Savings</td>\n",
       "      <td>Chicago</td>\n",
       "      <td>IL</td>\n",
       "      <td>30570</td>\n",
       "      <td>Royal Savings Bank</td>\n",
       "      <td>December 15, 2017</td>\n",
       "    </tr>\n",
       "    <tr>\n",
       "      <th>...</th>\n",
       "      <td>...</td>\n",
       "      <td>...</td>\n",
       "      <td>...</td>\n",
       "      <td>...</td>\n",
       "      <td>...</td>\n",
       "      <td>...</td>\n",
       "    </tr>\n",
       "    <tr>\n",
       "      <th>554</th>\n",
       "      <td>Superior Bank, FSB</td>\n",
       "      <td>Hinsdale</td>\n",
       "      <td>IL</td>\n",
       "      <td>32646</td>\n",
       "      <td>Superior Federal, FSB</td>\n",
       "      <td>July 27, 2001</td>\n",
       "    </tr>\n",
       "    <tr>\n",
       "      <th>555</th>\n",
       "      <td>Malta National Bank</td>\n",
       "      <td>Malta</td>\n",
       "      <td>OH</td>\n",
       "      <td>6629</td>\n",
       "      <td>North Valley Bank</td>\n",
       "      <td>May 3, 2001</td>\n",
       "    </tr>\n",
       "    <tr>\n",
       "      <th>556</th>\n",
       "      <td>First Alliance Bank &amp; Trust Co.</td>\n",
       "      <td>Manchester</td>\n",
       "      <td>NH</td>\n",
       "      <td>34264</td>\n",
       "      <td>Southern New Hampshire Bank &amp; Trust</td>\n",
       "      <td>February 2, 2001</td>\n",
       "    </tr>\n",
       "    <tr>\n",
       "      <th>557</th>\n",
       "      <td>National State Bank of Metropolis</td>\n",
       "      <td>Metropolis</td>\n",
       "      <td>IL</td>\n",
       "      <td>3815</td>\n",
       "      <td>Banterra Bank of Marion</td>\n",
       "      <td>December 14, 2000</td>\n",
       "    </tr>\n",
       "    <tr>\n",
       "      <th>558</th>\n",
       "      <td>Bank of Honolulu</td>\n",
       "      <td>Honolulu</td>\n",
       "      <td>HI</td>\n",
       "      <td>21029</td>\n",
       "      <td>Bank of the Orient</td>\n",
       "      <td>October 13, 2000</td>\n",
       "    </tr>\n",
       "  </tbody>\n",
       "</table>\n",
       "<p>559 rows × 6 columns</p>\n",
       "</div>"
      ],
      "text/plain": [
       "                               Bank Name        City  ST   CERT  \\\n",
       "0       City National Bank of New Jersey      Newark  NJ  21111   \n",
       "1                          Resolute Bank      Maumee  OH  58317   \n",
       "2                  Louisa Community Bank      Louisa  KY  58112   \n",
       "3                   The Enloe State Bank      Cooper  TX  10716   \n",
       "4    Washington Federal Bank for Savings     Chicago  IL  30570   \n",
       "..                                   ...         ...  ..    ...   \n",
       "554                   Superior Bank, FSB    Hinsdale  IL  32646   \n",
       "555                  Malta National Bank       Malta  OH   6629   \n",
       "556      First Alliance Bank & Trust Co.  Manchester  NH  34264   \n",
       "557    National State Bank of Metropolis  Metropolis  IL   3815   \n",
       "558                     Bank of Honolulu    Honolulu  HI  21029   \n",
       "\n",
       "                   Acquiring Institution       Closing Date  \n",
       "0                        Industrial Bank   November 1, 2019  \n",
       "1                     Buckeye State Bank   October 25, 2019  \n",
       "2      Kentucky Farmers Bank Corporation   October 25, 2019  \n",
       "3                     Legend Bank, N. A.       May 31, 2019  \n",
       "4                     Royal Savings Bank  December 15, 2017  \n",
       "..                                   ...                ...  \n",
       "554                Superior Federal, FSB      July 27, 2001  \n",
       "555                    North Valley Bank        May 3, 2001  \n",
       "556  Southern New Hampshire Bank & Trust   February 2, 2001  \n",
       "557              Banterra Bank of Marion  December 14, 2000  \n",
       "558                   Bank of the Orient   October 13, 2000  \n",
       "\n",
       "[559 rows x 6 columns]"
      ]
     },
     "execution_count": 20,
     "metadata": {},
     "output_type": "execute_result"
    }
   ],
   "source": [
    "bank[0]"
   ]
  },
  {
   "cell_type": "markdown",
   "metadata": {
    "slideshow": {
     "slide_type": "subslide"
    }
   },
   "source": [
    "# Importer depuis Excel\n",
    "\n",
    "On a deux approches pour Excel :\n",
    "- On peut utiliser `pd.read_excel()`\n",
    "- On peut utiliser la classe `pd.ExcelFile()`\n",
    "\n",
    "Dans ce cas, on utilise :\n",
    "```python\n",
    "xlsfile=pd.ExcelFile('fichier.xlsx')\n",
    "xlsfile.parse('Sheet1')\n",
    "```"
   ]
  },
  {
   "cell_type": "markdown",
   "metadata": {
    "slideshow": {
     "slide_type": "subslide"
    }
   },
   "source": [
    "**Exercice :** \n",
    "    \n",
    "Importez un fichier Excel avec les deux approches, on utilisera : `credit2.xlsx` et `ville.xls`"
   ]
  },
  {
   "cell_type": "code",
   "execution_count": 21,
   "metadata": {},
   "outputs": [],
   "source": [
    "credit2 = pd.read_excel(\"./data/credit2.xlsx\")"
   ]
  },
  {
   "cell_type": "code",
   "execution_count": 22,
   "metadata": {},
   "outputs": [
    {
     "data": {
      "text/html": [
       "<div>\n",
       "<style scoped>\n",
       "    .dataframe tbody tr th:only-of-type {\n",
       "        vertical-align: middle;\n",
       "    }\n",
       "\n",
       "    .dataframe tbody tr th {\n",
       "        vertical-align: top;\n",
       "    }\n",
       "\n",
       "    .dataframe thead th {\n",
       "        text-align: right;\n",
       "    }\n",
       "</style>\n",
       "<table border=\"1\" class=\"dataframe\">\n",
       "  <thead>\n",
       "    <tr style=\"text-align: right;\">\n",
       "      <th></th>\n",
       "      <th>Age</th>\n",
       "      <th>Gender</th>\n",
       "      <th>Marital_Status</th>\n",
       "      <th>Age_Youngest_Child</th>\n",
       "      <th>Number_of_Workers_in_Household</th>\n",
       "      <th>Percentage_White_Collar_Workers</th>\n",
       "      <th>Household_Debt_to_Equity_Ratio</th>\n",
       "      <th>Income</th>\n",
       "      <th>Homeowner</th>\n",
       "      <th>Customer_ID</th>\n",
       "    </tr>\n",
       "  </thead>\n",
       "  <tbody>\n",
       "    <tr>\n",
       "      <th>0</th>\n",
       "      <td>40</td>\n",
       "      <td>F</td>\n",
       "      <td>S</td>\n",
       "      <td>11</td>\n",
       "      <td>6</td>\n",
       "      <td>37</td>\n",
       "      <td>56</td>\n",
       "      <td>37073</td>\n",
       "      <td>F</td>\n",
       "      <td>5409</td>\n",
       "    </tr>\n",
       "    <tr>\n",
       "      <th>1</th>\n",
       "      <td>47</td>\n",
       "      <td>M</td>\n",
       "      <td>M</td>\n",
       "      <td>13</td>\n",
       "      <td>13</td>\n",
       "      <td>30</td>\n",
       "      <td>56</td>\n",
       "      <td>50721</td>\n",
       "      <td>F</td>\n",
       "      <td>5477</td>\n",
       "    </tr>\n",
       "    <tr>\n",
       "      <th>2</th>\n",
       "      <td>35</td>\n",
       "      <td>F</td>\n",
       "      <td>U</td>\n",
       "      <td>1</td>\n",
       "      <td>9</td>\n",
       "      <td>33</td>\n",
       "      <td>57</td>\n",
       "      <td>43578</td>\n",
       "      <td>T</td>\n",
       "      <td>5507</td>\n",
       "    </tr>\n",
       "    <tr>\n",
       "      <th>3</th>\n",
       "      <td>45</td>\n",
       "      <td>M</td>\n",
       "      <td>U</td>\n",
       "      <td>15</td>\n",
       "      <td>7</td>\n",
       "      <td>30</td>\n",
       "      <td>62</td>\n",
       "      <td>69553</td>\n",
       "      <td>F</td>\n",
       "      <td>8</td>\n",
       "    </tr>\n",
       "    <tr>\n",
       "      <th>4</th>\n",
       "      <td>13</td>\n",
       "      <td>F</td>\n",
       "      <td>S</td>\n",
       "      <td>0</td>\n",
       "      <td>7</td>\n",
       "      <td>27</td>\n",
       "      <td>64</td>\n",
       "      <td>37502</td>\n",
       "      <td>T</td>\n",
       "      <td>158</td>\n",
       "    </tr>\n",
       "  </tbody>\n",
       "</table>\n",
       "</div>"
      ],
      "text/plain": [
       "   Age Gender Marital_Status  Age_Youngest_Child  \\\n",
       "0   40      F              S                  11   \n",
       "1   47      M              M                  13   \n",
       "2   35      F              U                   1   \n",
       "3   45      M              U                  15   \n",
       "4   13      F              S                   0   \n",
       "\n",
       "   Number_of_Workers_in_Household  Percentage_White_Collar_Workers  \\\n",
       "0                               6                               37   \n",
       "1                              13                               30   \n",
       "2                               9                               33   \n",
       "3                               7                               30   \n",
       "4                               7                               27   \n",
       "\n",
       "   Household_Debt_to_Equity_Ratio  Income Homeowner  Customer_ID  \n",
       "0                              56   37073         F         5409  \n",
       "1                              56   50721         F         5477  \n",
       "2                              57   43578         T         5507  \n",
       "3                              62   69553         F            8  \n",
       "4                              64   37502         T          158  "
      ]
     },
     "execution_count": 22,
     "metadata": {},
     "output_type": "execute_result"
    }
   ],
   "source": [
    "credit2.head()"
   ]
  },
  {
   "cell_type": "code",
   "execution_count": 23,
   "metadata": {},
   "outputs": [],
   "source": [
    "ville_excel = pd.ExcelFile(\"./data/ville.xls\")"
   ]
  },
  {
   "cell_type": "code",
   "execution_count": 24,
   "metadata": {},
   "outputs": [],
   "source": [
    "nom_feuille = ville_excel.sheet_names[0]"
   ]
  },
  {
   "cell_type": "code",
   "execution_count": 25,
   "metadata": {},
   "outputs": [
    {
     "data": {
      "text/plain": [
       "'ville'"
      ]
     },
     "execution_count": 25,
     "metadata": {},
     "output_type": "execute_result"
    }
   ],
   "source": [
    "nom_feuille"
   ]
  },
  {
   "cell_type": "code",
   "execution_count": 26,
   "metadata": {},
   "outputs": [],
   "source": [
    "frame_ville = ville_excel.parse(nom_feuille)"
   ]
  },
  {
   "cell_type": "code",
   "execution_count": 27,
   "metadata": {},
   "outputs": [
    {
     "data": {
      "text/plain": [
       "Index(['NomVille', 'MAJ   ', ' Code Postal ', ' Code INSEE ', 'Code Région',\n",
       "       ' Latitude ', ' Longitude ', ' Eloignement '],\n",
       "      dtype='object')"
      ]
     },
     "execution_count": 27,
     "metadata": {},
     "output_type": "execute_result"
    }
   ],
   "source": [
    "frame_ville.columns"
   ]
  },
  {
   "cell_type": "code",
   "execution_count": 28,
   "metadata": {},
   "outputs": [
    {
     "data": {
      "text/plain": [
       "<matplotlib.collections.PathCollection at 0x1319c6e97c8>"
      ]
     },
     "execution_count": 28,
     "metadata": {},
     "output_type": "execute_result"
    },
    {
     "data": {
      "image/png": "[encoded data removed]",
      "text/plain": [
       "<Figure size 432x288 with 1 Axes>"
      ]
     },
     "metadata": {
      "needs_background": "light"
     },
     "output_type": "display_data"
    }
   ],
   "source": [
    "import matplotlib.pyplot as plt\n",
    "\n",
    "plt.scatter(\" Longitude \",\" Latitude \",data=frame_ville, s=0.5)"
   ]
  },
  {
   "cell_type": "markdown",
   "metadata": {
    "slideshow": {
     "slide_type": "subslide"
    }
   },
   "source": [
    "# Importer des données SQL\n",
    "\n",
    "Pandas possède une fonction `read_sql()` qui permet d’importer directement des bases de données ou des queries dans des DataFrame\n",
    "\n",
    "Il faut tout de même un connecteur pour accéder aux bases de données\n",
    "\n",
    "Pour mettre en place ce connecteur, on utlise le package SQLAlchemy.\n",
    "\n",
    "Suivant le type de base de données, on utilisera différents codes mais la structure du code est toujours la même"
   ]
  },
  {
   "cell_type": "code",
   "execution_count": 29,
   "metadata": {
    "slideshow": {
     "slide_type": "subslide"
    }
   },
   "outputs": [],
   "source": [
    "# on importe l'outil de connexion\n",
    "from sqlalchemy import create_engine"
   ]
  },
  {
   "cell_type": "markdown",
   "metadata": {
    "slideshow": {
     "slide_type": "fragment"
    }
   },
   "source": [
    "On crée une connexion\n",
    "```python\n",
    "connexion=create_engine(\"sqlite:///(...).sqlite\")\n",
    "```"
   ]
  },
  {
   "cell_type": "markdown",
   "metadata": {
    "slideshow": {
     "slide_type": "fragment"
    }
   },
   "source": [
    "On utlise une des fonctions de Pandas pour charger les données\n",
    "```python\n",
    "requete=\"\"\"select ... from ...\"\"\"\n",
    "frame_sql=pd.read_sql_query(requete,connexion)\n",
    "```"
   ]
  },
  {
   "cell_type": "markdown",
   "metadata": {
    "slideshow": {
     "slide_type": "subslide"
    }
   },
   "source": [
    "**Exercices :**\n",
    "    \n",
    "Importez la base de données SQLite salaries et récupérez la table Salaries dans un DataFrame "
   ]
  },
  {
   "cell_type": "code",
   "execution_count": 30,
   "metadata": {},
   "outputs": [],
   "source": [
    "connexion=create_engine(\"sqlite:///./data/Salaries.sqlite\")\n",
    "\n",
    "requete=\"\"\"select * from salaries\"\"\"\n",
    "frame_sql=pd.read_sql_query(requete,connexion)"
   ]
  },
  {
   "cell_type": "code",
   "execution_count": 31,
   "metadata": {},
   "outputs": [
    {
     "data": {
      "text/html": [
       "<div>\n",
       "<style scoped>\n",
       "    .dataframe tbody tr th:only-of-type {\n",
       "        vertical-align: middle;\n",
       "    }\n",
       "\n",
       "    .dataframe tbody tr th {\n",
       "        vertical-align: top;\n",
       "    }\n",
       "\n",
       "    .dataframe thead th {\n",
       "        text-align: right;\n",
       "    }\n",
       "</style>\n",
       "<table border=\"1\" class=\"dataframe\">\n",
       "  <thead>\n",
       "    <tr style=\"text-align: right;\">\n",
       "      <th></th>\n",
       "      <th>Id</th>\n",
       "      <th>EmployeeName</th>\n",
       "      <th>JobTitle</th>\n",
       "      <th>BasePay</th>\n",
       "      <th>OvertimePay</th>\n",
       "      <th>OtherPay</th>\n",
       "      <th>Benefits</th>\n",
       "      <th>TotalPay</th>\n",
       "      <th>TotalPayBenefits</th>\n",
       "      <th>Year</th>\n",
       "      <th>Notes</th>\n",
       "      <th>Agency</th>\n",
       "      <th>Status</th>\n",
       "    </tr>\n",
       "  </thead>\n",
       "  <tbody>\n",
       "    <tr>\n",
       "      <th>0</th>\n",
       "      <td>1</td>\n",
       "      <td>NATHANIEL FORD</td>\n",
       "      <td>GENERAL MANAGER-METROPOLITAN TRANSIT AUTHORITY</td>\n",
       "      <td>167411</td>\n",
       "      <td>0</td>\n",
       "      <td>400184</td>\n",
       "      <td></td>\n",
       "      <td>567595.43</td>\n",
       "      <td>567595.43</td>\n",
       "      <td>2011</td>\n",
       "      <td></td>\n",
       "      <td>San Francisco</td>\n",
       "      <td></td>\n",
       "    </tr>\n",
       "    <tr>\n",
       "      <th>1</th>\n",
       "      <td>2</td>\n",
       "      <td>GARY JIMENEZ</td>\n",
       "      <td>CAPTAIN III (POLICE DEPARTMENT)</td>\n",
       "      <td>155966</td>\n",
       "      <td>245132</td>\n",
       "      <td>137811</td>\n",
       "      <td></td>\n",
       "      <td>538909.28</td>\n",
       "      <td>538909.28</td>\n",
       "      <td>2011</td>\n",
       "      <td></td>\n",
       "      <td>San Francisco</td>\n",
       "      <td></td>\n",
       "    </tr>\n",
       "    <tr>\n",
       "      <th>2</th>\n",
       "      <td>3</td>\n",
       "      <td>ALBERT PARDINI</td>\n",
       "      <td>CAPTAIN III (POLICE DEPARTMENT)</td>\n",
       "      <td>212739</td>\n",
       "      <td>106088</td>\n",
       "      <td>16452.6</td>\n",
       "      <td></td>\n",
       "      <td>335279.91</td>\n",
       "      <td>335279.91</td>\n",
       "      <td>2011</td>\n",
       "      <td></td>\n",
       "      <td>San Francisco</td>\n",
       "      <td></td>\n",
       "    </tr>\n",
       "    <tr>\n",
       "      <th>3</th>\n",
       "      <td>4</td>\n",
       "      <td>CHRISTOPHER CHONG</td>\n",
       "      <td>WIRE ROPE CABLE MAINTENANCE MECHANIC</td>\n",
       "      <td>77916</td>\n",
       "      <td>56120.7</td>\n",
       "      <td>198307</td>\n",
       "      <td></td>\n",
       "      <td>332343.61</td>\n",
       "      <td>332343.61</td>\n",
       "      <td>2011</td>\n",
       "      <td></td>\n",
       "      <td>San Francisco</td>\n",
       "      <td></td>\n",
       "    </tr>\n",
       "    <tr>\n",
       "      <th>4</th>\n",
       "      <td>5</td>\n",
       "      <td>PATRICK GARDNER</td>\n",
       "      <td>DEPUTY CHIEF OF DEPARTMENT,(FIRE DEPARTMENT)</td>\n",
       "      <td>134402</td>\n",
       "      <td>9737</td>\n",
       "      <td>182235</td>\n",
       "      <td></td>\n",
       "      <td>326373.19</td>\n",
       "      <td>326373.19</td>\n",
       "      <td>2011</td>\n",
       "      <td></td>\n",
       "      <td>San Francisco</td>\n",
       "      <td></td>\n",
       "    </tr>\n",
       "  </tbody>\n",
       "</table>\n",
       "</div>"
      ],
      "text/plain": [
       "   Id       EmployeeName                                        JobTitle  \\\n",
       "0   1     NATHANIEL FORD  GENERAL MANAGER-METROPOLITAN TRANSIT AUTHORITY   \n",
       "1   2       GARY JIMENEZ                 CAPTAIN III (POLICE DEPARTMENT)   \n",
       "2   3     ALBERT PARDINI                 CAPTAIN III (POLICE DEPARTMENT)   \n",
       "3   4  CHRISTOPHER CHONG            WIRE ROPE CABLE MAINTENANCE MECHANIC   \n",
       "4   5    PATRICK GARDNER    DEPUTY CHIEF OF DEPARTMENT,(FIRE DEPARTMENT)   \n",
       "\n",
       "  BasePay OvertimePay OtherPay Benefits   TotalPay  TotalPayBenefits  Year  \\\n",
       "0  167411           0   400184           567595.43         567595.43  2011   \n",
       "1  155966      245132   137811           538909.28         538909.28  2011   \n",
       "2  212739      106088  16452.6           335279.91         335279.91  2011   \n",
       "3   77916     56120.7   198307           332343.61         332343.61  2011   \n",
       "4  134402        9737   182235           326373.19         326373.19  2011   \n",
       "\n",
       "  Notes         Agency Status  \n",
       "0        San Francisco         \n",
       "1        San Francisco         \n",
       "2        San Francisco         \n",
       "3        San Francisco         \n",
       "4        San Francisco         "
      ]
     },
     "execution_count": 31,
     "metadata": {},
     "output_type": "execute_result"
    }
   ],
   "source": [
    "frame_sql.head()"
   ]
  },
  {
   "cell_type": "markdown",
   "metadata": {},
   "source": [
    "# Importer des données SAS\n",
    "\n",
    "On peut utiliser `pd.read_sas`"
   ]
  },
  {
   "cell_type": "markdown",
   "metadata": {},
   "source": [
    "**Exercice :**\n",
    "Importez le fichier SAS se trouvant dans le répertoire `./data/`"
   ]
  },
  {
   "cell_type": "code",
   "execution_count": 32,
   "metadata": {},
   "outputs": [],
   "source": [
    "frame_sas = pd.read_sas(\"./data/bce_uai.sas7bdat\",encoding='ISO-8859-1')"
   ]
  },
  {
   "cell_type": "code",
   "execution_count": 33,
   "metadata": {},
   "outputs": [
    {
     "data": {
      "text/plain": [
       "JULES FERRY        499\n",
       "JACQUES PREVERT    370\n",
       "JEAN MOULIN        362\n",
       "SAINT JOSEPH       350\n",
       "JEAN JAURES        319\n",
       "                  ... \n",
       "DES VANNELLES        1\n",
       "EDOUARD CAZAUX       1\n",
       "LACORDAIRE J         1\n",
       "TARTENSON            1\n",
       "VAL MORE             1\n",
       "Name: PATRONYME_UAI, Length: 27874, dtype: int64"
      ]
     },
     "execution_count": 33,
     "metadata": {},
     "output_type": "execute_result"
    }
   ],
   "source": [
    "frame_sas[\"PATRONYME_UAI\"].value_counts()"
   ]
  },
  {
   "cell_type": "code",
   "execution_count": 34,
   "metadata": {},
   "outputs": [
    {
     "name": "stdout",
     "output_type": "stream",
     "text": [
      "<class 'pandas.core.frame.DataFrame'>\n",
      "RangeIndex: 67441 entries, 0 to 67440\n",
      "Data columns (total 15 columns):\n",
      " #   Column                       Non-Null Count  Dtype         \n",
      "---  ------                       --------------  -----         \n",
      " 0   CONTRAT_ETABLISSEMENT        67441 non-null  object        \n",
      " 1   CATEGORIE_JURIDIQUE          67441 non-null  object        \n",
      " 2   ETAT_ETABLISSEMENT           67441 non-null  object        \n",
      " 3   MINISTERE_TUTELLE            67441 non-null  object        \n",
      " 4   NUMERO_UAI                   67441 non-null  object        \n",
      " 5   SIGLE_UAI                    67426 non-null  object        \n",
      " 6   SECTEUR_PUBLIC_PRIVE         67441 non-null  object        \n",
      " 7   NATURE_UAI                   67441 non-null  object        \n",
      " 8   COMMUNE                      67441 non-null  object        \n",
      " 9   DATE_OUVERTURE               67441 non-null  datetime64[ns]\n",
      " 10  DATE_FERMETURE               94 non-null     datetime64[ns]\n",
      " 11  DENOMINATION_PRINCIPALE_UAI  67437 non-null  object        \n",
      " 12  PATRONYME_UAI                54200 non-null  object        \n",
      " 13  NIVEAU_UAI                   67441 non-null  object        \n",
      " 14  SECTEUR_CONTRAT              67441 non-null  object        \n",
      "dtypes: datetime64[ns](2), object(13)\n",
      "memory usage: 7.7+ MB\n"
     ]
    }
   ],
   "source": [
    "frame_sas.info()"
   ]
  },
  {
   "cell_type": "code",
   "execution_count": 35,
   "metadata": {},
   "outputs": [
    {
     "data": {
      "text/plain": [
       "Index(['CONTRAT_ETABLISSEMENT', 'CATEGORIE_JURIDIQUE', 'ETAT_ETABLISSEMENT',\n",
       "       'MINISTERE_TUTELLE', 'NUMERO_UAI', 'SIGLE_UAI', 'SECTEUR_PUBLIC_PRIVE',\n",
       "       'NATURE_UAI', 'COMMUNE', 'DATE_OUVERTURE', 'DATE_FERMETURE',\n",
       "       'DENOMINATION_PRINCIPALE_UAI', 'PATRONYME_UAI', 'NIVEAU_UAI',\n",
       "       'SECTEUR_CONTRAT'],\n",
       "      dtype='object')"
      ]
     },
     "execution_count": 35,
     "metadata": {},
     "output_type": "execute_result"
    }
   ],
   "source": [
    "frame_sas.columns"
   ]
  },
  {
   "cell_type": "markdown",
   "metadata": {
    "slideshow": {
     "slide_type": "slide"
    }
   },
   "source": [
    "# Les tris avec Pandas \n",
    "\n",
    "Pour effectuer des tris, on utilise :\n",
    "- `.sort_index()` pour le tri des index\n",
    "- `.sort_values()` pour le tri des données\n",
    "- `.rank()` affiche le rang des observations\n",
    "\n",
    "Il peut y avoir plusieurs tris dans la même opération. Dans ce cas, on utilise des listes de colonnes :\n",
    "```python\n",
    "frame.sort_values([\"col_1\",\"col_2\"])\n",
    "```"
   ]
  },
  {
   "cell_type": "markdown",
   "metadata": {},
   "source": [
    "**Exercice :** \n",
    "Trier les logements airbnb par prix"
   ]
  },
  {
   "cell_type": "code",
   "execution_count": 36,
   "metadata": {},
   "outputs": [],
   "source": [
    "# convertir la colonne price en numérique\n",
    "# enlever le $\n",
    "airbnb[\"price_num\"] = pd.to_numeric(airbnb[\"price\"].str[1:].str.replace(\",\",\"\"))\n",
    "#pd.to_numeric()\n"
   ]
  },
  {
   "cell_type": "code",
   "execution_count": 37,
   "metadata": {},
   "outputs": [
    {
     "data": {
      "text/html": [
       "<div>\n",
       "<style scoped>\n",
       "    .dataframe tbody tr th:only-of-type {\n",
       "        vertical-align: middle;\n",
       "    }\n",
       "\n",
       "    .dataframe tbody tr th {\n",
       "        vertical-align: top;\n",
       "    }\n",
       "\n",
       "    .dataframe thead th {\n",
       "        text-align: right;\n",
       "    }\n",
       "</style>\n",
       "<table border=\"1\" class=\"dataframe\">\n",
       "  <thead>\n",
       "    <tr style=\"text-align: right;\">\n",
       "      <th></th>\n",
       "      <th>id</th>\n",
       "      <th>listing_url</th>\n",
       "      <th>scrape_id</th>\n",
       "      <th>last_scraped</th>\n",
       "      <th>name</th>\n",
       "      <th>summary</th>\n",
       "      <th>space</th>\n",
       "      <th>description</th>\n",
       "      <th>experiences_offered</th>\n",
       "      <th>neighborhood_overview</th>\n",
       "      <th>...</th>\n",
       "      <th>is_business_travel_ready</th>\n",
       "      <th>cancellation_policy</th>\n",
       "      <th>require_guest_profile_picture</th>\n",
       "      <th>require_guest_phone_verification</th>\n",
       "      <th>calculated_host_listings_count</th>\n",
       "      <th>calculated_host_listings_count_entire_homes</th>\n",
       "      <th>calculated_host_listings_count_private_rooms</th>\n",
       "      <th>calculated_host_listings_count_shared_rooms</th>\n",
       "      <th>reviews_per_month</th>\n",
       "      <th>price_num</th>\n",
       "    </tr>\n",
       "  </thead>\n",
       "  <tbody>\n",
       "    <tr>\n",
       "      <th>33559</th>\n",
       "      <td>19974916</td>\n",
       "      <td>https://www.airbnb.com/rooms/19974916</td>\n",
       "      <td>20190507030954</td>\n",
       "      <td>2019-05-07</td>\n",
       "      <td>Petit nid - village de Montmartre</td>\n",
       "      <td>À deux pas de la Basilique du Sacré Cœur. Dans...</td>\n",
       "      <td>À deux pas du Sacré Cœur dans une charmante ru...</td>\n",
       "      <td>À deux pas de la Basilique du Sacré Cœur. Dans...</td>\n",
       "      <td>none</td>\n",
       "      <td>Montmartre!</td>\n",
       "      <td>...</td>\n",
       "      <td>f</td>\n",
       "      <td>strict_14_with_grace_period</td>\n",
       "      <td>f</td>\n",
       "      <td>f</td>\n",
       "      <td>1</td>\n",
       "      <td>1</td>\n",
       "      <td>0</td>\n",
       "      <td>0</td>\n",
       "      <td>2.58</td>\n",
       "      <td>0.0</td>\n",
       "    </tr>\n",
       "    <tr>\n",
       "      <th>34341</th>\n",
       "      <td>20291987</td>\n",
       "      <td>https://www.airbnb.com/rooms/20291987</td>\n",
       "      <td>20190507030954</td>\n",
       "      <td>2019-05-08</td>\n",
       "      <td>Romantic Garden view near Champs-Elysées</td>\n",
       "      <td>Very private, on an inner romantic garden, rem...</td>\n",
       "      <td>The studio offers a well-equipped space and is...</td>\n",
       "      <td>Very private, on an inner romantic garden, rem...</td>\n",
       "      <td>none</td>\n",
       "      <td>Quiet neighborhood, small supermarket across t...</td>\n",
       "      <td>...</td>\n",
       "      <td>f</td>\n",
       "      <td>strict_14_with_grace_period</td>\n",
       "      <td>f</td>\n",
       "      <td>f</td>\n",
       "      <td>5</td>\n",
       "      <td>5</td>\n",
       "      <td>0</td>\n",
       "      <td>0</td>\n",
       "      <td>1.42</td>\n",
       "      <td>0.0</td>\n",
       "    </tr>\n",
       "    <tr>\n",
       "      <th>46598</th>\n",
       "      <td>27546389</td>\n",
       "      <td>https://www.airbnb.com/rooms/27546389</td>\n",
       "      <td>20190507030954</td>\n",
       "      <td>2019-05-07</td>\n",
       "      <td>Appartement familiale dans le 12ème</td>\n",
       "      <td>NaN</td>\n",
       "      <td>Appartement familiale comprenant trois chambre...</td>\n",
       "      <td>Appartement familiale comprenant trois chambre...</td>\n",
       "      <td>none</td>\n",
       "      <td>NaN</td>\n",
       "      <td>...</td>\n",
       "      <td>f</td>\n",
       "      <td>strict_14_with_grace_period</td>\n",
       "      <td>f</td>\n",
       "      <td>f</td>\n",
       "      <td>1</td>\n",
       "      <td>1</td>\n",
       "      <td>0</td>\n",
       "      <td>0</td>\n",
       "      <td>NaN</td>\n",
       "      <td>0.0</td>\n",
       "    </tr>\n",
       "    <tr>\n",
       "      <th>34370</th>\n",
       "      <td>20313940</td>\n",
       "      <td>https://www.airbnb.com/rooms/20313940</td>\n",
       "      <td>20190507030954</td>\n",
       "      <td>2019-05-07</td>\n",
       "      <td>Charming loft in the Upper Marais</td>\n",
       "      <td>Charming artist's loft on the top floor of an ...</td>\n",
       "      <td>The apartment is a single open space with cath...</td>\n",
       "      <td>Charming artist's loft on the top floor of an ...</td>\n",
       "      <td>none</td>\n",
       "      <td>The Upper Marais, where the apartment is locat...</td>\n",
       "      <td>...</td>\n",
       "      <td>f</td>\n",
       "      <td>moderate</td>\n",
       "      <td>f</td>\n",
       "      <td>f</td>\n",
       "      <td>1</td>\n",
       "      <td>1</td>\n",
       "      <td>0</td>\n",
       "      <td>0</td>\n",
       "      <td>1.29</td>\n",
       "      <td>0.0</td>\n",
       "    </tr>\n",
       "    <tr>\n",
       "      <th>34191</th>\n",
       "      <td>20219162</td>\n",
       "      <td>https://www.airbnb.com/rooms/20219162</td>\n",
       "      <td>20190507030954</td>\n",
       "      <td>2019-05-07</td>\n",
       "      <td>Nice &amp; cosy parisian flat</td>\n",
       "      <td>Hello :) Welcome to the best area of Paris ! T...</td>\n",
       "      <td>NaN</td>\n",
       "      <td>Hello :) Welcome to the best area of Paris ! T...</td>\n",
       "      <td>none</td>\n",
       "      <td>NaN</td>\n",
       "      <td>...</td>\n",
       "      <td>f</td>\n",
       "      <td>moderate</td>\n",
       "      <td>f</td>\n",
       "      <td>f</td>\n",
       "      <td>1</td>\n",
       "      <td>1</td>\n",
       "      <td>0</td>\n",
       "      <td>0</td>\n",
       "      <td>0.12</td>\n",
       "      <td>0.0</td>\n",
       "    </tr>\n",
       "    <tr>\n",
       "      <th>...</th>\n",
       "      <td>...</td>\n",
       "      <td>...</td>\n",
       "      <td>...</td>\n",
       "      <td>...</td>\n",
       "      <td>...</td>\n",
       "      <td>...</td>\n",
       "      <td>...</td>\n",
       "      <td>...</td>\n",
       "      <td>...</td>\n",
       "      <td>...</td>\n",
       "      <td>...</td>\n",
       "      <td>...</td>\n",
       "      <td>...</td>\n",
       "      <td>...</td>\n",
       "      <td>...</td>\n",
       "      <td>...</td>\n",
       "      <td>...</td>\n",
       "      <td>...</td>\n",
       "      <td>...</td>\n",
       "      <td>...</td>\n",
       "      <td>...</td>\n",
       "    </tr>\n",
       "    <tr>\n",
       "      <th>10073</th>\n",
       "      <td>6088687</td>\n",
       "      <td>https://www.airbnb.com/rooms/6088687</td>\n",
       "      <td>20190507030954</td>\n",
       "      <td>2019-05-07</td>\n",
       "      <td>Lovely Duplex 30m2 - Le Marais</td>\n",
       "      <td>The apartment is a charming studio organized i...</td>\n",
       "      <td>Hello! I entrust to you my charming duplex apa...</td>\n",
       "      <td>The apartment is a charming studio organized i...</td>\n",
       "      <td>none</td>\n",
       "      <td>Great neighbourhood, very central in the 3rd d...</td>\n",
       "      <td>...</td>\n",
       "      <td>f</td>\n",
       "      <td>strict_14_with_grace_period</td>\n",
       "      <td>f</td>\n",
       "      <td>f</td>\n",
       "      <td>1</td>\n",
       "      <td>1</td>\n",
       "      <td>0</td>\n",
       "      <td>0</td>\n",
       "      <td>0.78</td>\n",
       "      <td>8500.0</td>\n",
       "    </tr>\n",
       "    <tr>\n",
       "      <th>42726</th>\n",
       "      <td>25448670</td>\n",
       "      <td>https://www.airbnb.com/rooms/25448670</td>\n",
       "      <td>20190507030954</td>\n",
       "      <td>2019-05-08</td>\n",
       "      <td>cosytiti Paris 15</td>\n",
       "      <td>cosytiti</td>\n",
       "      <td>cosytiti</td>\n",
       "      <td>cosytiti cosytiti facile</td>\n",
       "      <td>none</td>\n",
       "      <td>NaN</td>\n",
       "      <td>...</td>\n",
       "      <td>f</td>\n",
       "      <td>flexible</td>\n",
       "      <td>f</td>\n",
       "      <td>f</td>\n",
       "      <td>1</td>\n",
       "      <td>1</td>\n",
       "      <td>0</td>\n",
       "      <td>0</td>\n",
       "      <td>0.18</td>\n",
       "      <td>8576.0</td>\n",
       "    </tr>\n",
       "    <tr>\n",
       "      <th>14823</th>\n",
       "      <td>8093890</td>\n",
       "      <td>https://www.airbnb.com/rooms/8093890</td>\n",
       "      <td>20190507030954</td>\n",
       "      <td>2019-05-08</td>\n",
       "      <td>EIFFEL TOWER TROCADERO 2 BEDROOM</td>\n",
       "      <td>Wonderful parisian flat close (3 min walk) to ...</td>\n",
       "      <td>The room is situated in a very nice Parisian \"...</td>\n",
       "      <td>Wonderful parisian flat close (3 min walk) to ...</td>\n",
       "      <td>none</td>\n",
       "      <td>Close to Trocadero, arc de Triomphe, the area ...</td>\n",
       "      <td>...</td>\n",
       "      <td>f</td>\n",
       "      <td>strict_14_with_grace_period</td>\n",
       "      <td>f</td>\n",
       "      <td>f</td>\n",
       "      <td>1</td>\n",
       "      <td>1</td>\n",
       "      <td>0</td>\n",
       "      <td>0</td>\n",
       "      <td>0.21</td>\n",
       "      <td>8721.0</td>\n",
       "    </tr>\n",
       "    <tr>\n",
       "      <th>46718</th>\n",
       "      <td>27608896</td>\n",
       "      <td>https://www.airbnb.com/rooms/27608896</td>\n",
       "      <td>20190507030954</td>\n",
       "      <td>2019-05-07</td>\n",
       "      <td>Petit studio parisien</td>\n",
       "      <td>Petit studio tranquille dans le 14e Reposant e...</td>\n",
       "      <td>NaN</td>\n",
       "      <td>Petit studio tranquille dans le 14e Reposant e...</td>\n",
       "      <td>none</td>\n",
       "      <td>NaN</td>\n",
       "      <td>...</td>\n",
       "      <td>f</td>\n",
       "      <td>flexible</td>\n",
       "      <td>f</td>\n",
       "      <td>f</td>\n",
       "      <td>1</td>\n",
       "      <td>0</td>\n",
       "      <td>1</td>\n",
       "      <td>0</td>\n",
       "      <td>0.11</td>\n",
       "      <td>8932.0</td>\n",
       "    </tr>\n",
       "    <tr>\n",
       "      <th>12976</th>\n",
       "      <td>7225849</td>\n",
       "      <td>https://www.airbnb.com/rooms/7225849</td>\n",
       "      <td>20190507030954</td>\n",
       "      <td>2019-05-07</td>\n",
       "      <td>Artistic apartment, Montmartre</td>\n",
       "      <td>2 bedrooms on different floors in this Duplex....</td>\n",
       "      <td>English: Lots of art in various form will be s...</td>\n",
       "      <td>2 bedrooms on different floors in this Duplex....</td>\n",
       "      <td>none</td>\n",
       "      <td>NaN</td>\n",
       "      <td>...</td>\n",
       "      <td>f</td>\n",
       "      <td>moderate</td>\n",
       "      <td>f</td>\n",
       "      <td>f</td>\n",
       "      <td>1</td>\n",
       "      <td>1</td>\n",
       "      <td>0</td>\n",
       "      <td>0</td>\n",
       "      <td>0.51</td>\n",
       "      <td>9379.0</td>\n",
       "    </tr>\n",
       "  </tbody>\n",
       "</table>\n",
       "<p>59126 rows × 107 columns</p>\n",
       "</div>"
      ],
      "text/plain": [
       "             id                            listing_url       scrape_id  \\\n",
       "33559  19974916  https://www.airbnb.com/rooms/19974916  20190507030954   \n",
       "34341  20291987  https://www.airbnb.com/rooms/20291987  20190507030954   \n",
       "46598  27546389  https://www.airbnb.com/rooms/27546389  20190507030954   \n",
       "34370  20313940  https://www.airbnb.com/rooms/20313940  20190507030954   \n",
       "34191  20219162  https://www.airbnb.com/rooms/20219162  20190507030954   \n",
       "...         ...                                    ...             ...   \n",
       "10073   6088687   https://www.airbnb.com/rooms/6088687  20190507030954   \n",
       "42726  25448670  https://www.airbnb.com/rooms/25448670  20190507030954   \n",
       "14823   8093890   https://www.airbnb.com/rooms/8093890  20190507030954   \n",
       "46718  27608896  https://www.airbnb.com/rooms/27608896  20190507030954   \n",
       "12976   7225849   https://www.airbnb.com/rooms/7225849  20190507030954   \n",
       "\n",
       "      last_scraped                                      name  \\\n",
       "33559   2019-05-07         Petit nid - village de Montmartre   \n",
       "34341   2019-05-08  Romantic Garden view near Champs-Elysées   \n",
       "46598   2019-05-07       Appartement familiale dans le 12ème   \n",
       "34370   2019-05-07         Charming loft in the Upper Marais   \n",
       "34191   2019-05-07                 Nice & cosy parisian flat   \n",
       "...            ...                                       ...   \n",
       "10073   2019-05-07            Lovely Duplex 30m2 - Le Marais   \n",
       "42726   2019-05-08                         cosytiti Paris 15   \n",
       "14823   2019-05-08          EIFFEL TOWER TROCADERO 2 BEDROOM   \n",
       "46718   2019-05-07                     Petit studio parisien   \n",
       "12976   2019-05-07            Artistic apartment, Montmartre   \n",
       "\n",
       "                                                 summary  \\\n",
       "33559  À deux pas de la Basilique du Sacré Cœur. Dans...   \n",
       "34341  Very private, on an inner romantic garden, rem...   \n",
       "46598                                                NaN   \n",
       "34370  Charming artist's loft on the top floor of an ...   \n",
       "34191  Hello :) Welcome to the best area of Paris ! T...   \n",
       "...                                                  ...   \n",
       "10073  The apartment is a charming studio organized i...   \n",
       "42726                                           cosytiti   \n",
       "14823  Wonderful parisian flat close (3 min walk) to ...   \n",
       "46718  Petit studio tranquille dans le 14e Reposant e...   \n",
       "12976  2 bedrooms on different floors in this Duplex....   \n",
       "\n",
       "                                                   space  \\\n",
       "33559  À deux pas du Sacré Cœur dans une charmante ru...   \n",
       "34341  The studio offers a well-equipped space and is...   \n",
       "46598  Appartement familiale comprenant trois chambre...   \n",
       "34370  The apartment is a single open space with cath...   \n",
       "34191                                                NaN   \n",
       "...                                                  ...   \n",
       "10073  Hello! I entrust to you my charming duplex apa...   \n",
       "42726                                           cosytiti   \n",
       "14823  The room is situated in a very nice Parisian \"...   \n",
       "46718                                                NaN   \n",
       "12976  English: Lots of art in various form will be s...   \n",
       "\n",
       "                                             description experiences_offered  \\\n",
       "33559  À deux pas de la Basilique du Sacré Cœur. Dans...                none   \n",
       "34341  Very private, on an inner romantic garden, rem...                none   \n",
       "46598  Appartement familiale comprenant trois chambre...                none   \n",
       "34370  Charming artist's loft on the top floor of an ...                none   \n",
       "34191  Hello :) Welcome to the best area of Paris ! T...                none   \n",
       "...                                                  ...                 ...   \n",
       "10073  The apartment is a charming studio organized i...                none   \n",
       "42726                           cosytiti cosytiti facile                none   \n",
       "14823  Wonderful parisian flat close (3 min walk) to ...                none   \n",
       "46718  Petit studio tranquille dans le 14e Reposant e...                none   \n",
       "12976  2 bedrooms on different floors in this Duplex....                none   \n",
       "\n",
       "                                   neighborhood_overview  ...  \\\n",
       "33559                                        Montmartre!  ...   \n",
       "34341  Quiet neighborhood, small supermarket across t...  ...   \n",
       "46598                                                NaN  ...   \n",
       "34370  The Upper Marais, where the apartment is locat...  ...   \n",
       "34191                                                NaN  ...   \n",
       "...                                                  ...  ...   \n",
       "10073  Great neighbourhood, very central in the 3rd d...  ...   \n",
       "42726                                                NaN  ...   \n",
       "14823  Close to Trocadero, arc de Triomphe, the area ...  ...   \n",
       "46718                                                NaN  ...   \n",
       "12976                                                NaN  ...   \n",
       "\n",
       "      is_business_travel_ready          cancellation_policy  \\\n",
       "33559                        f  strict_14_with_grace_period   \n",
       "34341                        f  strict_14_with_grace_period   \n",
       "46598                        f  strict_14_with_grace_period   \n",
       "34370                        f                     moderate   \n",
       "34191                        f                     moderate   \n",
       "...                        ...                          ...   \n",
       "10073                        f  strict_14_with_grace_period   \n",
       "42726                        f                     flexible   \n",
       "14823                        f  strict_14_with_grace_period   \n",
       "46718                        f                     flexible   \n",
       "12976                        f                     moderate   \n",
       "\n",
       "      require_guest_profile_picture require_guest_phone_verification  \\\n",
       "33559                             f                                f   \n",
       "34341                             f                                f   \n",
       "46598                             f                                f   \n",
       "34370                             f                                f   \n",
       "34191                             f                                f   \n",
       "...                             ...                              ...   \n",
       "10073                             f                                f   \n",
       "42726                             f                                f   \n",
       "14823                             f                                f   \n",
       "46718                             f                                f   \n",
       "12976                             f                                f   \n",
       "\n",
       "      calculated_host_listings_count  \\\n",
       "33559                              1   \n",
       "34341                              5   \n",
       "46598                              1   \n",
       "34370                              1   \n",
       "34191                              1   \n",
       "...                              ...   \n",
       "10073                              1   \n",
       "42726                              1   \n",
       "14823                              1   \n",
       "46718                              1   \n",
       "12976                              1   \n",
       "\n",
       "       calculated_host_listings_count_entire_homes  \\\n",
       "33559                                            1   \n",
       "34341                                            5   \n",
       "46598                                            1   \n",
       "34370                                            1   \n",
       "34191                                            1   \n",
       "...                                            ...   \n",
       "10073                                            1   \n",
       "42726                                            1   \n",
       "14823                                            1   \n",
       "46718                                            0   \n",
       "12976                                            1   \n",
       "\n",
       "       calculated_host_listings_count_private_rooms  \\\n",
       "33559                                             0   \n",
       "34341                                             0   \n",
       "46598                                             0   \n",
       "34370                                             0   \n",
       "34191                                             0   \n",
       "...                                             ...   \n",
       "10073                                             0   \n",
       "42726                                             0   \n",
       "14823                                             0   \n",
       "46718                                             1   \n",
       "12976                                             0   \n",
       "\n",
       "      calculated_host_listings_count_shared_rooms  reviews_per_month  \\\n",
       "33559                                           0               2.58   \n",
       "34341                                           0               1.42   \n",
       "46598                                           0                NaN   \n",
       "34370                                           0               1.29   \n",
       "34191                                           0               0.12   \n",
       "...                                           ...                ...   \n",
       "10073                                           0               0.78   \n",
       "42726                                           0               0.18   \n",
       "14823                                           0               0.21   \n",
       "46718                                           0               0.11   \n",
       "12976                                           0               0.51   \n",
       "\n",
       "       price_num  \n",
       "33559        0.0  \n",
       "34341        0.0  \n",
       "46598        0.0  \n",
       "34370        0.0  \n",
       "34191        0.0  \n",
       "...          ...  \n",
       "10073     8500.0  \n",
       "42726     8576.0  \n",
       "14823     8721.0  \n",
       "46718     8932.0  \n",
       "12976     9379.0  \n",
       "\n",
       "[59126 rows x 107 columns]"
      ]
     },
     "execution_count": 37,
     "metadata": {},
     "output_type": "execute_result"
    }
   ],
   "source": [
    "airbnb.sort_values(\"price_num\",ascending=True)"
   ]
  },
  {
   "cell_type": "markdown",
   "metadata": {
    "slideshow": {
     "slide_type": "slide"
    }
   },
   "source": [
    "# Les statistiques simples\n",
    "\n",
    "Les Dataframe possèdent de nombreuses méthodes pour calculer des statistiques simples :\n",
    "- `.sum(axis=0)` permet de faire une somme par colonne\n",
    "- `.sum(axis=1)` permet de faire une somme par ligne\n",
    "- `.min()` et `.max()` donnent le minimum par colonne\n",
    "- `.idxmin()` et `.idxmax()` donnent l’index du minimum et du maximum\n",
    "- `.describe()` affiche un tableau de statistiques descriptives par colonne\n",
    "- `.corr()` pour calculer la corrélation entre les colonnes"
   ]
  },
  {
   "cell_type": "markdown",
   "metadata": {
    "slideshow": {
     "slide_type": "subslide"
    }
   },
   "source": [
    "**Exercice :**\n",
    "    \n",
    "Obtenir les différentes statistiques descriptives pour les données AirBnB.\n",
    "\n",
    "Pn peut s'intéresser à la colonne `Price` (attention des prétraitements sont nécessaires)\n"
   ]
  },
  {
   "cell_type": "code",
   "execution_count": 38,
   "metadata": {},
   "outputs": [
    {
     "data": {
      "text/plain": [
       "116.32598180157629"
      ]
     },
     "execution_count": 38,
     "metadata": {},
     "output_type": "execute_result"
    }
   ],
   "source": [
    "np.mean(airbnb[\"price_num\"])"
   ]
  },
  {
   "cell_type": "code",
   "execution_count": 39,
   "metadata": {},
   "outputs": [
    {
     "data": {
      "text/plain": [
       "116.32598180157629"
      ]
     },
     "execution_count": 39,
     "metadata": {},
     "output_type": "execute_result"
    }
   ],
   "source": [
    "airbnb[\"price_num\"].mean()"
   ]
  },
  {
   "cell_type": "markdown",
   "metadata": {
    "slideshow": {
     "slide_type": "slide"
    }
   },
   "source": [
    "# Le traitement des données manquantes\n",
    "\n",
    "- Les données manquantes sont identifiées par `NaN`\n",
    "\n",
    "\n",
    "- `.dropna()` permet de retirer les données manquantes dans un objet Series et l’ensemble d’une ligne dans le cas d’un DataFrame\n",
    "- Pour éliminer par colonne, on utilise `.dropna(axis=1)`\n",
    "- Remplacer toutes les données manquantes `.fillna(valeur)`\n"
   ]
  },
  {
   "cell_type": "code",
   "execution_count": 40,
   "metadata": {},
   "outputs": [
    {
     "data": {
      "text/plain": [
       "0         75.0\n",
       "1        115.0\n",
       "2        115.0\n",
       "3         90.0\n",
       "4         75.0\n",
       "         ...  \n",
       "59121     50.0\n",
       "59122    350.0\n",
       "59123     80.0\n",
       "59124     32.0\n",
       "59125     60.0\n",
       "Name: price_num, Length: 59126, dtype: float64"
      ]
     },
     "execution_count": 40,
     "metadata": {},
     "output_type": "execute_result"
    }
   ],
   "source": [
    "airbnb[\"price_num\"].fillna(airbnb[\"price_num\"].median())"
   ]
  },
  {
   "cell_type": "markdown",
   "metadata": {
    "slideshow": {
     "slide_type": "slide"
    }
   },
   "source": [
    "# Les jointures avec Pandas\n",
    "\n",
    "On veut joindre des jeux de données en utilisant des clés (variables communes)\n",
    "\n",
    "- `pd.merge()` permet de joindre deux DataFrame, on utilise comme options `on='key'`\n",
    "\n",
    "- On peut utiliser comme option `how=`, on peut avoir :\n",
    "    - `left` dans ce cas, on garde le jeu de données à gauche et pour les données de droite des valeurs manquantes sont ajoutées.\n",
    "    - `outer`, on garde toutes les valeurs des deux jeux de données\n",
    "    - ...\n",
    "\n",
    "- On peut avoir plusieurs clés et faire une jointure sur les deux clés `on=['key1','key2']`\n",
    "\n",
    "Pour plus de détails : <http://pandas.pydata.org/pandas-docs/dev/generated/pandas.DataFrame.merge.html>\n"
   ]
  },
  {
   "cell_type": "markdown",
   "metadata": {
    "slideshow": {
     "slide_type": "subslide"
    }
   },
   "source": [
    "**Exercice :**\n",
    "    \n",
    "Joindre deux dataframes (credit1 et credit2).\n"
   ]
  },
  {
   "cell_type": "code",
   "execution_count": 41,
   "metadata": {},
   "outputs": [],
   "source": [
    "credit1 = pd.read_csv(\"./data/credit1.txt\",sep=\"\\t\")"
   ]
  },
  {
   "cell_type": "code",
   "execution_count": 42,
   "metadata": {},
   "outputs": [],
   "source": [
    "credit_global = pd.merge(credit1,credit2,on = \"Customer_ID\")"
   ]
  },
  {
   "cell_type": "markdown",
   "metadata": {
    "slideshow": {
     "slide_type": "slide"
    }
   },
   "source": [
    "# Gestion des duplications\n",
    "\n",
    "- On utilise `.duplicated()` ou `.drop_duplicates()` dans le cas où on désire effacer les lignes se répétant\n",
    "\n",
    "\n",
    "- On peut se concentrer sur une seule variables en entrant directement le nom de la variable. Dans ce cas, c’est la première apparition qui compte. Si on veut prendre la dernière apparition, on utilise l’option `keep=\"last\"`. On pourra avoir :\n",
    "```python\n",
    "frame1.drop_duplicates([\"col_0\",\"col_1\"],keep=\"last\")\n",
    "```"
   ]
  },
  {
   "cell_type": "markdown",
   "metadata": {
    "slideshow": {
     "slide_type": "slide"
    }
   },
   "source": [
    "# Discrétisation\n",
    "\n",
    "Pour discrétiser, on utilise la fonction `pd.cut()`, on va définir une liste de points pour discrétiser et on entre cette liste comme second paramètre de la fonction.\n",
    "\n",
    "Une fois discrétisé, on peut afficher les modalités obtenues en utilisant `.categories`\n",
    "\n",
    "On peut aussi compter les occurrence en utilisant `pd.value_counts()`\n",
    "\n",
    "Il est aussi possible d’entrer le nombre de segments comme second paramètre\n",
    "\n",
    "On utilisera aussi `qcut()`"
   ]
  },
  {
   "cell_type": "markdown",
   "metadata": {
    "slideshow": {
     "slide_type": "subslide"
    }
   },
   "source": [
    "**Exercice :**\n",
    "    \n",
    "Créez une variable dans le dataframe AirBnB pour obtenir des niveaux de prix.\n"
   ]
  },
  {
   "cell_type": "code",
   "execution_count": 43,
   "metadata": {},
   "outputs": [],
   "source": [
    "airbnb[\"price_disc\"] = pd.cut(airbnb[\"price_num\"],bins=4)"
   ]
  },
  {
   "cell_type": "code",
   "execution_count": 44,
   "metadata": {},
   "outputs": [],
   "source": [
    "airbnb[\"price_disc2\"] = pd.cut(airbnb[\"price_num\"],bins= [0,50,100,500,airbnb[\"price_num\"].max()])"
   ]
  },
  {
   "cell_type": "code",
   "execution_count": 45,
   "metadata": {},
   "outputs": [],
   "source": [
    "airbnb[\"price_disc3\"] = pd.qcut(airbnb[\"price_num\"],4)"
   ]
  },
  {
   "cell_type": "code",
   "execution_count": 46,
   "metadata": {},
   "outputs": [
    {
     "data": {
      "text/plain": [
       "(-0.001, 59.0]     14842\n",
       "(59.0, 80.0]       15593\n",
       "(80.0, 120.0]      14573\n",
       "(120.0, 9379.0]    14118\n",
       "Name: price_disc3, dtype: int64"
      ]
     },
     "execution_count": 46,
     "metadata": {},
     "output_type": "execute_result"
    }
   ],
   "source": [
    "airbnb[\"price_disc3\"].value_counts().sort_index()"
   ]
  },
  {
   "cell_type": "markdown",
   "metadata": {
    "slideshow": {
     "slide_type": "slide"
    }
   },
   "source": [
    "# Les tableaux croisés avec Pandas\n",
    "\n",
    "Les DataFrame possèdent des méthodes pour générer des tableaux croisés, notamment :\n",
    "```python\n",
    "frame1.pivot_table()\n",
    "```\n",
    "Cette méthode permet de gérer de nombreux cas avec des fonctions standards et sur mesure."
   ]
  },
  {
   "cell_type": "markdown",
   "metadata": {
    "slideshow": {
     "slide_type": "subslide"
    }
   },
   "source": [
    "**Exercice :**\n",
    "    \n",
    "Afficher un tableau Pivot pour les données AirBnB. On croise `cancellation_policy` et `room_type` et on regarde la moyenne des prix."
   ]
  },
  {
   "cell_type": "code",
   "execution_count": 48,
   "metadata": {},
   "outputs": [
    {
     "data": {
      "text/html": [
       "<div>\n",
       "<style scoped>\n",
       "    .dataframe tbody tr th:only-of-type {\n",
       "        vertical-align: middle;\n",
       "    }\n",
       "\n",
       "    .dataframe tbody tr th {\n",
       "        vertical-align: top;\n",
       "    }\n",
       "\n",
       "    .dataframe thead tr th {\n",
       "        text-align: left;\n",
       "    }\n",
       "\n",
       "    .dataframe thead tr:last-of-type th {\n",
       "        text-align: right;\n",
       "    }\n",
       "</style>\n",
       "<table border=\"1\" class=\"dataframe\">\n",
       "  <thead>\n",
       "    <tr>\n",
       "      <th></th>\n",
       "      <th colspan=\"10\" halign=\"left\">median</th>\n",
       "      <th>...</th>\n",
       "      <th colspan=\"10\" halign=\"left\">mean</th>\n",
       "    </tr>\n",
       "    <tr>\n",
       "      <th></th>\n",
       "      <th colspan=\"6\" halign=\"left\">price_num</th>\n",
       "      <th colspan=\"4\" halign=\"left\">review_scores_value</th>\n",
       "      <th>...</th>\n",
       "      <th colspan=\"4\" halign=\"left\">price_num</th>\n",
       "      <th colspan=\"6\" halign=\"left\">review_scores_value</th>\n",
       "    </tr>\n",
       "    <tr>\n",
       "      <th>cancellation_policy</th>\n",
       "      <th>flexible</th>\n",
       "      <th>moderate</th>\n",
       "      <th>strict</th>\n",
       "      <th>strict_14_with_grace_period</th>\n",
       "      <th>super_strict_30</th>\n",
       "      <th>super_strict_60</th>\n",
       "      <th>flexible</th>\n",
       "      <th>moderate</th>\n",
       "      <th>strict</th>\n",
       "      <th>strict_14_with_grace_period</th>\n",
       "      <th>...</th>\n",
       "      <th>strict</th>\n",
       "      <th>strict_14_with_grace_period</th>\n",
       "      <th>super_strict_30</th>\n",
       "      <th>super_strict_60</th>\n",
       "      <th>flexible</th>\n",
       "      <th>moderate</th>\n",
       "      <th>strict</th>\n",
       "      <th>strict_14_with_grace_period</th>\n",
       "      <th>super_strict_30</th>\n",
       "      <th>super_strict_60</th>\n",
       "    </tr>\n",
       "    <tr>\n",
       "      <th>room_type</th>\n",
       "      <th></th>\n",
       "      <th></th>\n",
       "      <th></th>\n",
       "      <th></th>\n",
       "      <th></th>\n",
       "      <th></th>\n",
       "      <th></th>\n",
       "      <th></th>\n",
       "      <th></th>\n",
       "      <th></th>\n",
       "      <th></th>\n",
       "      <th></th>\n",
       "      <th></th>\n",
       "      <th></th>\n",
       "      <th></th>\n",
       "      <th></th>\n",
       "      <th></th>\n",
       "      <th></th>\n",
       "      <th></th>\n",
       "      <th></th>\n",
       "      <th></th>\n",
       "    </tr>\n",
       "  </thead>\n",
       "  <tbody>\n",
       "    <tr>\n",
       "      <th>Entire home/apt</th>\n",
       "      <td>75.0</td>\n",
       "      <td>80.0</td>\n",
       "      <td>63.0</td>\n",
       "      <td>100.0</td>\n",
       "      <td>179.5</td>\n",
       "      <td>446.0</td>\n",
       "      <td>10.0</td>\n",
       "      <td>9.0</td>\n",
       "      <td>9.0</td>\n",
       "      <td>9.0</td>\n",
       "      <td>...</td>\n",
       "      <td>63.0</td>\n",
       "      <td>141.510807</td>\n",
       "      <td>253.656250</td>\n",
       "      <td>590.639286</td>\n",
       "      <td>9.301675</td>\n",
       "      <td>9.295042</td>\n",
       "      <td>9.0</td>\n",
       "      <td>9.207226</td>\n",
       "      <td>8.666667</td>\n",
       "      <td>8.414414</td>\n",
       "    </tr>\n",
       "    <tr>\n",
       "      <th>Private room</th>\n",
       "      <td>50.0</td>\n",
       "      <td>55.0</td>\n",
       "      <td>NaN</td>\n",
       "      <td>56.0</td>\n",
       "      <td>450.0</td>\n",
       "      <td>400.0</td>\n",
       "      <td>10.0</td>\n",
       "      <td>10.0</td>\n",
       "      <td>NaN</td>\n",
       "      <td>9.0</td>\n",
       "      <td>...</td>\n",
       "      <td>NaN</td>\n",
       "      <td>92.999418</td>\n",
       "      <td>541.363636</td>\n",
       "      <td>440.000000</td>\n",
       "      <td>9.302423</td>\n",
       "      <td>9.398754</td>\n",
       "      <td>NaN</td>\n",
       "      <td>9.286011</td>\n",
       "      <td>8.571429</td>\n",
       "      <td>9.000000</td>\n",
       "    </tr>\n",
       "    <tr>\n",
       "      <th>Shared room</th>\n",
       "      <td>40.0</td>\n",
       "      <td>36.0</td>\n",
       "      <td>NaN</td>\n",
       "      <td>26.5</td>\n",
       "      <td>NaN</td>\n",
       "      <td>NaN</td>\n",
       "      <td>10.0</td>\n",
       "      <td>10.0</td>\n",
       "      <td>NaN</td>\n",
       "      <td>9.0</td>\n",
       "      <td>...</td>\n",
       "      <td>NaN</td>\n",
       "      <td>64.224719</td>\n",
       "      <td>NaN</td>\n",
       "      <td>NaN</td>\n",
       "      <td>9.108333</td>\n",
       "      <td>9.333333</td>\n",
       "      <td>NaN</td>\n",
       "      <td>9.303226</td>\n",
       "      <td>NaN</td>\n",
       "      <td>NaN</td>\n",
       "    </tr>\n",
       "  </tbody>\n",
       "</table>\n",
       "<p>3 rows × 24 columns</p>\n",
       "</div>"
      ],
      "text/plain": [
       "                       median                                              \\\n",
       "                    price_num                                               \n",
       "cancellation_policy  flexible moderate strict strict_14_with_grace_period   \n",
       "room_type                                                                   \n",
       "Entire home/apt          75.0     80.0   63.0                       100.0   \n",
       "Private room             50.0     55.0    NaN                        56.0   \n",
       "Shared room              40.0     36.0    NaN                        26.5   \n",
       "\n",
       "                                                                         \\\n",
       "                                                    review_scores_value   \n",
       "cancellation_policy super_strict_30 super_strict_60            flexible   \n",
       "room_type                                                                 \n",
       "Entire home/apt               179.5           446.0                10.0   \n",
       "Private room                  450.0           400.0                10.0   \n",
       "Shared room                     NaN             NaN                10.0   \n",
       "\n",
       "                                                                 ...  \\\n",
       "                                                                 ...   \n",
       "cancellation_policy moderate strict strict_14_with_grace_period  ...   \n",
       "room_type                                                        ...   \n",
       "Entire home/apt          9.0    9.0                         9.0  ...   \n",
       "Private room            10.0    NaN                         9.0  ...   \n",
       "Shared room             10.0    NaN                         9.0  ...   \n",
       "\n",
       "                         mean                                              \\\n",
       "                    price_num                                               \n",
       "cancellation_policy    strict strict_14_with_grace_period super_strict_30   \n",
       "room_type                                                                   \n",
       "Entire home/apt          63.0                  141.510807      253.656250   \n",
       "Private room              NaN                   92.999418      541.363636   \n",
       "Shared room               NaN                   64.224719             NaN   \n",
       "\n",
       "                                                                          \\\n",
       "                                    review_scores_value                    \n",
       "cancellation_policy super_strict_60            flexible  moderate strict   \n",
       "room_type                                                                  \n",
       "Entire home/apt          590.639286            9.301675  9.295042    9.0   \n",
       "Private room             440.000000            9.302423  9.398754    NaN   \n",
       "Shared room                     NaN            9.108333  9.333333    NaN   \n",
       "\n",
       "                                                                 \\\n",
       "                                                                  \n",
       "cancellation_policy strict_14_with_grace_period super_strict_30   \n",
       "room_type                                                         \n",
       "Entire home/apt                        9.207226        8.666667   \n",
       "Private room                           9.286011        8.571429   \n",
       "Shared room                            9.303226             NaN   \n",
       "\n",
       "                                     \n",
       "                                     \n",
       "cancellation_policy super_strict_60  \n",
       "room_type                            \n",
       "Entire home/apt            8.414414  \n",
       "Private room               9.000000  \n",
       "Shared room                     NaN  \n",
       "\n",
       "[3 rows x 24 columns]"
      ]
     },
     "execution_count": 48,
     "metadata": {},
     "output_type": "execute_result"
    }
   ],
   "source": [
    "airbnb.pivot_table(values = [\"price_num\",\"review_scores_value\"], \n",
    "                   index = \"room_type\", columns = \"cancellation_policy\",\n",
    "                   aggfunc=['median',\"mean\"])"
   ]
  },
  {
   "cell_type": "markdown",
   "metadata": {
    "slideshow": {
     "slide_type": "slide"
    }
   },
   "source": [
    "# L'utilisation de GroupBy sur des DataFrame\n",
    "\n",
    "- `.groupby` permet de rassembler des observations en fonction d’une variable dite de groupe\n",
    "\n",
    "\n",
    "- Par exemple, `frame.groupby('X').mean()` donnera les moyennes par groupes de `X`\n",
    "\n",
    "\n",
    "- On peut aussi utiliser `.size()` pour connaître la taille des groupes et utiliser d’autres fonctions (`.sum()`)\n",
    "\n",
    "\n",
    "- On peut effectuer de nombreuses opérations de traitement avec le groupby\n"
   ]
  },
  {
   "cell_type": "markdown",
   "metadata": {
    "slideshow": {
     "slide_type": "subslide"
    }
   },
   "source": [
    "**Exercice :**\n",
    "    \n",
    "- Données sur les salaires\n",
    "\n",
    "\n",
    "- On utilise le `groupby()` pour rassembler les types d’emploi\n",
    "\n",
    "\n",
    "- Et on calcule des statistiques pour chaque type\n",
    "\n",
    "\n",
    "On peut utiliser la méthode `.agg()` avec par exemple `'mean'` comme paramètre\n",
    "\n",
    "On utilise aussi fréquemment la méthode `.apply()` combinée à une fonction lambda"
   ]
  },
  {
   "cell_type": "code",
   "execution_count": 49,
   "metadata": {},
   "outputs": [],
   "source": [
    "salaries_group = frame_sql.groupby(\"JobTitle\")"
   ]
  },
  {
   "cell_type": "code",
   "execution_count": 50,
   "metadata": {},
   "outputs": [
    {
     "data": {
      "text/plain": [
       "JobTitle\n",
       "GENERAL MANAGER-METROPOLITAN TRANSIT AUTHORITY    399211.275000\n",
       "Chief Investment Officer                          339653.700000\n",
       "Chief of Police                                   329183.646667\n",
       "Chief, Fire Department                            325971.683333\n",
       "DEPUTY DIRECTOR OF INVESTMENTS                    307899.460000\n",
       "                                                      ...      \n",
       "Commissioner 16.700c, No Pay                          25.760000\n",
       "Public Safety Comm Tech                                0.000000\n",
       "Not provided                                           0.000000\n",
       "Drug Court Coordinator                                 0.000000\n",
       "IS Technician Assistant                                0.000000\n",
       "Name: TotalPay, Length: 2159, dtype: float64"
      ]
     },
     "execution_count": 50,
     "metadata": {},
     "output_type": "execute_result"
    }
   ],
   "source": [
    "salaries_group[\"TotalPay\"].mean().sort_values(ascending=False)"
   ]
  },
  {
   "cell_type": "code",
   "execution_count": 51,
   "metadata": {},
   "outputs": [
    {
     "data": {
      "text/html": [
       "<div>\n",
       "<style scoped>\n",
       "    .dataframe tbody tr th:only-of-type {\n",
       "        vertical-align: middle;\n",
       "    }\n",
       "\n",
       "    .dataframe tbody tr th {\n",
       "        vertical-align: top;\n",
       "    }\n",
       "\n",
       "    .dataframe thead th {\n",
       "        text-align: right;\n",
       "    }\n",
       "</style>\n",
       "<table border=\"1\" class=\"dataframe\">\n",
       "  <thead>\n",
       "    <tr style=\"text-align: right;\">\n",
       "      <th></th>\n",
       "      <th>mean</th>\n",
       "      <th>count</th>\n",
       "    </tr>\n",
       "    <tr>\n",
       "      <th>JobTitle</th>\n",
       "      <th></th>\n",
       "      <th></th>\n",
       "    </tr>\n",
       "  </thead>\n",
       "  <tbody>\n",
       "    <tr>\n",
       "      <th>Transit Operator</th>\n",
       "      <td>64711.146917</td>\n",
       "      <td>7036</td>\n",
       "    </tr>\n",
       "    <tr>\n",
       "      <th>Special Nurse</th>\n",
       "      <td>33161.934723</td>\n",
       "      <td>4389</td>\n",
       "    </tr>\n",
       "    <tr>\n",
       "      <th>Registered Nurse</th>\n",
       "      <td>115700.594866</td>\n",
       "      <td>3736</td>\n",
       "    </tr>\n",
       "    <tr>\n",
       "      <th>Public Svc Aide-Public Works</th>\n",
       "      <td>8242.309452</td>\n",
       "      <td>2518</td>\n",
       "    </tr>\n",
       "    <tr>\n",
       "      <th>Police Officer 3</th>\n",
       "      <td>134906.890909</td>\n",
       "      <td>2421</td>\n",
       "    </tr>\n",
       "    <tr>\n",
       "      <th>...</th>\n",
       "      <td>...</td>\n",
       "      <td>...</td>\n",
       "    </tr>\n",
       "    <tr>\n",
       "      <th>BUILDING SERVICES TECHNICIAN</th>\n",
       "      <td>84302.650000</td>\n",
       "      <td>1</td>\n",
       "    </tr>\n",
       "    <tr>\n",
       "      <th>Public Service Aide-Technical</th>\n",
       "      <td>2552.550000</td>\n",
       "      <td>1</td>\n",
       "    </tr>\n",
       "    <tr>\n",
       "      <th>Public Safety Comm Tech</th>\n",
       "      <td>0.000000</td>\n",
       "      <td>1</td>\n",
       "    </tr>\n",
       "    <tr>\n",
       "      <th>CAPTAIN, BUREAU OF FIRE PREVENTION AND PUBLIC SAFE</th>\n",
       "      <td>206704.630000</td>\n",
       "      <td>1</td>\n",
       "    </tr>\n",
       "    <tr>\n",
       "      <th>ZOO CURATOR</th>\n",
       "      <td>66686.560000</td>\n",
       "      <td>1</td>\n",
       "    </tr>\n",
       "  </tbody>\n",
       "</table>\n",
       "<p>2159 rows × 2 columns</p>\n",
       "</div>"
      ],
      "text/plain": [
       "                                                             mean  count\n",
       "JobTitle                                                                \n",
       "Transit Operator                                     64711.146917   7036\n",
       "Special Nurse                                        33161.934723   4389\n",
       "Registered Nurse                                    115700.594866   3736\n",
       "Public Svc Aide-Public Works                          8242.309452   2518\n",
       "Police Officer 3                                    134906.890909   2421\n",
       "...                                                           ...    ...\n",
       "BUILDING SERVICES TECHNICIAN                         84302.650000      1\n",
       "Public Service Aide-Technical                         2552.550000      1\n",
       "Public Safety Comm Tech                                  0.000000      1\n",
       "CAPTAIN, BUREAU OF FIRE PREVENTION AND PUBLIC SAFE  206704.630000      1\n",
       "ZOO CURATOR                                          66686.560000      1\n",
       "\n",
       "[2159 rows x 2 columns]"
      ]
     },
     "execution_count": 51,
     "metadata": {},
     "output_type": "execute_result"
    }
   ],
   "source": [
    "salaries_group[\"TotalPay\"].agg([\"mean\",\"count\"]).sort_values(\"count\",ascending=False)"
   ]
  },
  {
   "cell_type": "markdown",
   "metadata": {},
   "source": [
    "Essayez d'utiliser une fonction lambda sur le groupby"
   ]
  },
  {
   "cell_type": "code",
   "execution_count": 52,
   "metadata": {},
   "outputs": [
    {
     "data": {
      "text/plain": [
       "JobTitle\n",
       "CAPTAIN III (POLICE DEPARTMENT)                   446979.91\n",
       "Asst Med Examiner                                 351271.98\n",
       "Lieutenant, Fire Suppression                      351198.08\n",
       "EMT/Paramedic/Firefighter                         337204.86\n",
       "GENERAL MANAGER-METROPOLITAN TRANSIT AUTHORITY    336768.31\n",
       "                                                    ...    \n",
       "DIRECTOR, JUVENILE HALL                                0.00\n",
       "BAKER                                                  0.00\n",
       "BARBER                                                 0.00\n",
       "DIRECTOR, INFORMATION TECHNOLOGY GROUP                 0.00\n",
       "ZOO CURATOR                                            0.00\n",
       "Name: TotalPay, Length: 2159, dtype: float64"
      ]
     },
     "execution_count": 52,
     "metadata": {},
     "output_type": "execute_result"
    }
   ],
   "source": [
    "salaries_group[\"TotalPay\"].apply(lambda x : x.max()-x.min()).sort_values(ascending=False)"
   ]
  },
  {
   "cell_type": "code",
   "execution_count": 53,
   "metadata": {},
   "outputs": [],
   "source": [
    "def diff(x):\n",
    "    return x.max()-x.min()"
   ]
  },
  {
   "cell_type": "code",
   "execution_count": 54,
   "metadata": {},
   "outputs": [
    {
     "data": {
      "text/plain": [
       "JobTitle\n",
       "CAPTAIN III (POLICE DEPARTMENT)                   446979.91\n",
       "Asst Med Examiner                                 351271.98\n",
       "Lieutenant, Fire Suppression                      351198.08\n",
       "EMT/Paramedic/Firefighter                         337204.86\n",
       "GENERAL MANAGER-METROPOLITAN TRANSIT AUTHORITY    336768.31\n",
       "                                                    ...    \n",
       "DIRECTOR, JUVENILE HALL                                0.00\n",
       "BAKER                                                  0.00\n",
       "BARBER                                                 0.00\n",
       "DIRECTOR, INFORMATION TECHNOLOGY GROUP                 0.00\n",
       "ZOO CURATOR                                            0.00\n",
       "Name: TotalPay, Length: 2159, dtype: float64"
      ]
     },
     "execution_count": 54,
     "metadata": {},
     "output_type": "execute_result"
    }
   ],
   "source": [
    "salaries_group[\"TotalPay\"].apply(diff).sort_values(ascending=False)"
   ]
  },
  {
   "cell_type": "code",
   "execution_count": null,
   "metadata": {},
   "outputs": [],
   "source": []
  }
 ],
 "metadata": {
  "celltoolbar": "Slideshow",
  "kernelspec": {
   "display_name": "Python 3",
   "language": "python",
   "name": "python3"
  },
  "language_info": {
   "codemirror_mode": {
    "name": "ipython",
    "version": 3
   },
   "file_extension": ".py",
   "mimetype": "text/x-python",
   "name": "python",
   "nbconvert_exporter": "python",
   "pygments_lexer": "ipython3",
   "version": "3.7.6"
  }
 },
 "nbformat": 4,
 "nbformat_minor": 2
}
