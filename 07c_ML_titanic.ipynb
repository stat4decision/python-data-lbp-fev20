{
 "cells": [
  {
   "cell_type": "markdown",
   "metadata": {},
   "source": [
    "## Machine learning sur le titanic"
   ]
  },
  {
   "cell_type": "code",
   "execution_count": 1,
   "metadata": {},
   "outputs": [],
   "source": [
    "import pandas as pd\n",
    "import numpy as np"
   ]
  },
  {
   "cell_type": "markdown",
   "metadata": {},
   "source": [
    "On importe les données"
   ]
  },
  {
   "cell_type": "code",
   "execution_count": 2,
   "metadata": {},
   "outputs": [],
   "source": [
    "titanic = pd.read_csv(\"./data/titanic_train.csv\")"
   ]
  },
  {
   "cell_type": "code",
   "execution_count": 3,
   "metadata": {},
   "outputs": [
    {
     "data": {
      "text/html": [
       "<div>\n",
       "<style scoped>\n",
       "    .dataframe tbody tr th:only-of-type {\n",
       "        vertical-align: middle;\n",
       "    }\n",
       "\n",
       "    .dataframe tbody tr th {\n",
       "        vertical-align: top;\n",
       "    }\n",
       "\n",
       "    .dataframe thead th {\n",
       "        text-align: right;\n",
       "    }\n",
       "</style>\n",
       "<table border=\"1\" class=\"dataframe\">\n",
       "  <thead>\n",
       "    <tr style=\"text-align: right;\">\n",
       "      <th></th>\n",
       "      <th>PassengerId</th>\n",
       "      <th>Survived</th>\n",
       "      <th>Pclass</th>\n",
       "      <th>Name</th>\n",
       "      <th>Sex</th>\n",
       "      <th>Age</th>\n",
       "      <th>SibSp</th>\n",
       "      <th>Parch</th>\n",
       "      <th>Ticket</th>\n",
       "      <th>Fare</th>\n",
       "      <th>Cabin</th>\n",
       "      <th>Embarked</th>\n",
       "    </tr>\n",
       "  </thead>\n",
       "  <tbody>\n",
       "    <tr>\n",
       "      <th>0</th>\n",
       "      <td>1</td>\n",
       "      <td>0</td>\n",
       "      <td>3</td>\n",
       "      <td>Braund, Mr. Owen Harris</td>\n",
       "      <td>male</td>\n",
       "      <td>22.0</td>\n",
       "      <td>1</td>\n",
       "      <td>0</td>\n",
       "      <td>A/5 21171</td>\n",
       "      <td>7.2500</td>\n",
       "      <td>NaN</td>\n",
       "      <td>S</td>\n",
       "    </tr>\n",
       "    <tr>\n",
       "      <th>1</th>\n",
       "      <td>2</td>\n",
       "      <td>1</td>\n",
       "      <td>1</td>\n",
       "      <td>Cumings, Mrs. John Bradley (Florence Briggs Th...</td>\n",
       "      <td>female</td>\n",
       "      <td>38.0</td>\n",
       "      <td>1</td>\n",
       "      <td>0</td>\n",
       "      <td>PC 17599</td>\n",
       "      <td>71.2833</td>\n",
       "      <td>C85</td>\n",
       "      <td>C</td>\n",
       "    </tr>\n",
       "    <tr>\n",
       "      <th>2</th>\n",
       "      <td>3</td>\n",
       "      <td>1</td>\n",
       "      <td>3</td>\n",
       "      <td>Heikkinen, Miss. Laina</td>\n",
       "      <td>female</td>\n",
       "      <td>26.0</td>\n",
       "      <td>0</td>\n",
       "      <td>0</td>\n",
       "      <td>STON/O2. 3101282</td>\n",
       "      <td>7.9250</td>\n",
       "      <td>NaN</td>\n",
       "      <td>S</td>\n",
       "    </tr>\n",
       "    <tr>\n",
       "      <th>3</th>\n",
       "      <td>4</td>\n",
       "      <td>1</td>\n",
       "      <td>1</td>\n",
       "      <td>Futrelle, Mrs. Jacques Heath (Lily May Peel)</td>\n",
       "      <td>female</td>\n",
       "      <td>35.0</td>\n",
       "      <td>1</td>\n",
       "      <td>0</td>\n",
       "      <td>113803</td>\n",
       "      <td>53.1000</td>\n",
       "      <td>C123</td>\n",
       "      <td>S</td>\n",
       "    </tr>\n",
       "    <tr>\n",
       "      <th>4</th>\n",
       "      <td>5</td>\n",
       "      <td>0</td>\n",
       "      <td>3</td>\n",
       "      <td>Allen, Mr. William Henry</td>\n",
       "      <td>male</td>\n",
       "      <td>35.0</td>\n",
       "      <td>0</td>\n",
       "      <td>0</td>\n",
       "      <td>373450</td>\n",
       "      <td>8.0500</td>\n",
       "      <td>NaN</td>\n",
       "      <td>S</td>\n",
       "    </tr>\n",
       "  </tbody>\n",
       "</table>\n",
       "</div>"
      ],
      "text/plain": [
       "   PassengerId  Survived  Pclass  \\\n",
       "0            1         0       3   \n",
       "1            2         1       1   \n",
       "2            3         1       3   \n",
       "3            4         1       1   \n",
       "4            5         0       3   \n",
       "\n",
       "                                                Name     Sex   Age  SibSp  \\\n",
       "0                            Braund, Mr. Owen Harris    male  22.0      1   \n",
       "1  Cumings, Mrs. John Bradley (Florence Briggs Th...  female  38.0      1   \n",
       "2                             Heikkinen, Miss. Laina  female  26.0      0   \n",
       "3       Futrelle, Mrs. Jacques Heath (Lily May Peel)  female  35.0      1   \n",
       "4                           Allen, Mr. William Henry    male  35.0      0   \n",
       "\n",
       "   Parch            Ticket     Fare Cabin Embarked  \n",
       "0      0         A/5 21171   7.2500   NaN        S  \n",
       "1      0          PC 17599  71.2833   C85        C  \n",
       "2      0  STON/O2. 3101282   7.9250   NaN        S  \n",
       "3      0            113803  53.1000  C123        S  \n",
       "4      0            373450   8.0500   NaN        S  "
      ]
     },
     "execution_count": 3,
     "metadata": {},
     "output_type": "execute_result"
    }
   ],
   "source": [
    "titanic.head()"
   ]
  },
  {
   "cell_type": "markdown",
   "metadata": {},
   "source": [
    "On sélectionne les colonnes de x"
   ]
  },
  {
   "cell_type": "code",
   "execution_count": 4,
   "metadata": {},
   "outputs": [],
   "source": [
    "x = titanic.drop([\"PassengerId\",\"Survived\",\"Name\",\"Ticket\"],axis=1)"
   ]
  },
  {
   "cell_type": "code",
   "execution_count": 5,
   "metadata": {},
   "outputs": [],
   "source": [
    "y = titanic[\"Survived\"]"
   ]
  },
  {
   "cell_type": "markdown",
   "metadata": {},
   "source": [
    "On simplifie la colonne `Cabin`"
   ]
  },
  {
   "cell_type": "code",
   "execution_count": 6,
   "metadata": {},
   "outputs": [],
   "source": [
    "x[\"Cabin\"]=x[\"Cabin\"].str[0].fillna(\"No\").replace({\"T\":\"No\",\"G\":\"No\"})#.replace(\"G\",\"No\")"
   ]
  },
  {
   "cell_type": "code",
   "execution_count": 7,
   "metadata": {},
   "outputs": [],
   "source": [
    "# on transforme toutes colonnes quali en binaires\n",
    "x = pd.get_dummies(x,columns=[\"Sex\",\"Cabin\",\"Embarked\"])"
   ]
  },
  {
   "cell_type": "code",
   "execution_count": 8,
   "metadata": {},
   "outputs": [],
   "source": [
    "def transfo(x):\n",
    "    \"\"\" Cette fonction permet de transformer en binaires toutes les colonnes\n",
    "    objet d'un DataFrame en utilisant get_dummies()\n",
    "    \"\"\"\n",
    "    list_col_quali =[]\n",
    "    for col in x.columns:\n",
    "        if x[col].dtype == object:\n",
    "            list_col_quali.append(col)\n",
    "    print(list_col_quali)        \n",
    "    return pd.get_dummies(x,columns=list_col_quali)"
   ]
  },
  {
   "cell_type": "code",
   "execution_count": 9,
   "metadata": {},
   "outputs": [
    {
     "name": "stdout",
     "output_type": "stream",
     "text": [
      "[]\n"
     ]
    }
   ],
   "source": [
    "x = transfo(x)"
   ]
  },
  {
   "cell_type": "code",
   "execution_count": 10,
   "metadata": {},
   "outputs": [],
   "source": [
    "# on remplace par la médiane\n",
    "x[\"Age\"]=x[\"Age\"].fillna(x[\"Age\"].median())"
   ]
  },
  {
   "cell_type": "markdown",
   "metadata": {},
   "source": [
    "# Séparation apprentissage / test"
   ]
  },
  {
   "cell_type": "code",
   "execution_count": 11,
   "metadata": {},
   "outputs": [],
   "source": [
    "from sklearn.model_selection import train_test_split"
   ]
  },
  {
   "cell_type": "markdown",
   "metadata": {},
   "source": [
    "On veut découper nos données en train / test"
   ]
  },
  {
   "cell_type": "code",
   "execution_count": 12,
   "metadata": {},
   "outputs": [],
   "source": [
    "x_train, x_test, y_train, y_test = train_test_split(x,y,test_size = 0.3)"
   ]
  },
  {
   "cell_type": "code",
   "execution_count": 13,
   "metadata": {},
   "outputs": [
    {
     "name": "stdout",
     "output_type": "stream",
     "text": [
      "(623, 17) (268, 17)\n"
     ]
    }
   ],
   "source": [
    "print(x_train.shape, x_test.shape)"
   ]
  },
  {
   "cell_type": "markdown",
   "metadata": {},
   "source": [
    "On va construire et estimer des modèles de ML"
   ]
  },
  {
   "cell_type": "code",
   "execution_count": 14,
   "metadata": {},
   "outputs": [],
   "source": [
    "from sklearn.linear_model import LogisticRegression\n",
    "from sklearn.ensemble import RandomForestClassifier, GradientBoostingClassifier\n",
    "from sklearn.neighbors import KNeighborsClassifier\n",
    "from sklearn.neural_network import MLPClassifier\n",
    "from sklearn.metrics import confusion_matrix, roc_auc_score, accuracy_score"
   ]
  },
  {
   "cell_type": "code",
   "execution_count": 15,
   "metadata": {},
   "outputs": [],
   "source": [
    "dico_modeles = dict(logit=LogisticRegression(),\n",
    "                    rf=RandomForestClassifier(n_estimators=1000),\n",
    "                    gbm=GradientBoostingClassifier(),\n",
    "                    knn = KNeighborsClassifier(),\n",
    "                    rn = MLPClassifier()\n",
    "                   )"
   ]
  },
  {
   "cell_type": "code",
   "execution_count": 16,
   "metadata": {},
   "outputs": [
    {
     "name": "stderr",
     "output_type": "stream",
     "text": [
      "C:\\Users\\s4d-asus-14\\Anaconda3\\lib\\site-packages\\sklearn\\linear_model\\_logistic.py:940: ConvergenceWarning: lbfgs failed to converge (status=1):\n",
      "STOP: TOTAL NO. of ITERATIONS REACHED LIMIT.\n",
      "\n",
      "Increase the number of iterations (max_iter) or scale the data as shown in:\n",
      "    https://scikit-learn.org/stable/modules/preprocessing.html\n",
      "Please also refer to the documentation for alternative solver options:\n",
      "    https://scikit-learn.org/stable/modules/linear_model.html#logistic-regression\n",
      "  extra_warning_msg=_LOGISTIC_SOLVER_CONVERGENCE_MSG)\n"
     ]
    },
    {
     "name": "stdout",
     "output_type": "stream",
     "text": [
      "Matrice de confusion pour modèle logit \n",
      "[[144  22]\n",
      " [ 29  73]]\n",
      "Auc pour modèle logit  0.8667906921804868\n",
      "Accuracy pour modèle logit  0.8097014925373134\n",
      "Matrice de confusion pour modèle rf \n",
      "[[139  27]\n",
      " [ 32  70]]\n",
      "Auc pour modèle rf  0.8526163477439168\n",
      "Accuracy pour modèle rf  0.7798507462686567\n",
      "Matrice de confusion pour modèle gbm \n",
      "[[149  17]\n",
      " [ 31  71]]\n",
      "Auc pour modèle gbm  0.8713973541223718\n",
      "Accuracy pour modèle gbm  0.8208955223880597\n",
      "Matrice de confusion pour modèle knn \n",
      "[[138  28]\n",
      " [ 43  59]]\n",
      "Auc pour modèle knn  0.7614575950862272\n",
      "Accuracy pour modèle knn  0.7350746268656716\n",
      "Matrice de confusion pour modèle rn \n",
      "[[145  21]\n",
      " [ 30  72]]\n",
      "Auc pour modèle rn  0.8719879518072289\n",
      "Accuracy pour modèle rn  0.8097014925373134\n"
     ]
    }
   ],
   "source": [
    "for modele in dico_modeles.keys():\n",
    "    dico_modeles[modele].fit(x_train,y_train)\n",
    "    y_predict = dico_modeles[modele].predict(x_test)\n",
    "    y_predict_proba = dico_modeles[modele].predict_proba(x_test)\n",
    "    print(\"Matrice de confusion pour modèle {} \".format(modele), confusion_matrix(y_test,y_predict),sep=\"\\n\")\n",
    "    print(\"Auc pour modèle {} \".format(modele) ,roc_auc_score(y_test,y_predict_proba[:,1] ))\n",
    "    print(\"Accuracy pour modèle {} \".format(modele), accuracy_score(y_test,y_predict))"
   ]
  },
  {
   "cell_type": "code",
   "execution_count": 17,
   "metadata": {},
   "outputs": [
    {
     "data": {
      "text/html": [
       "<div>\n",
       "<style scoped>\n",
       "    .dataframe tbody tr th:only-of-type {\n",
       "        vertical-align: middle;\n",
       "    }\n",
       "\n",
       "    .dataframe tbody tr th {\n",
       "        vertical-align: top;\n",
       "    }\n",
       "\n",
       "    .dataframe thead th {\n",
       "        text-align: right;\n",
       "    }\n",
       "</style>\n",
       "<table border=\"1\" class=\"dataframe\">\n",
       "  <thead>\n",
       "    <tr style=\"text-align: right;\">\n",
       "      <th></th>\n",
       "      <th>importance</th>\n",
       "    </tr>\n",
       "  </thead>\n",
       "  <tbody>\n",
       "    <tr>\n",
       "      <th>Fare</th>\n",
       "      <td>0.229475</td>\n",
       "    </tr>\n",
       "    <tr>\n",
       "      <th>Age</th>\n",
       "      <td>0.224378</td>\n",
       "    </tr>\n",
       "    <tr>\n",
       "      <th>Sex_female</th>\n",
       "      <td>0.131263</td>\n",
       "    </tr>\n",
       "    <tr>\n",
       "      <th>Sex_male</th>\n",
       "      <td>0.129922</td>\n",
       "    </tr>\n",
       "    <tr>\n",
       "      <th>Pclass</th>\n",
       "      <td>0.083134</td>\n",
       "    </tr>\n",
       "    <tr>\n",
       "      <th>SibSp</th>\n",
       "      <td>0.048526</td>\n",
       "    </tr>\n",
       "    <tr>\n",
       "      <th>Parch</th>\n",
       "      <td>0.038908</td>\n",
       "    </tr>\n",
       "    <tr>\n",
       "      <th>Cabin_No</th>\n",
       "      <td>0.037683</td>\n",
       "    </tr>\n",
       "    <tr>\n",
       "      <th>Embarked_S</th>\n",
       "      <td>0.016126</td>\n",
       "    </tr>\n",
       "    <tr>\n",
       "      <th>Embarked_C</th>\n",
       "      <td>0.013205</td>\n",
       "    </tr>\n",
       "    <tr>\n",
       "      <th>Cabin_E</th>\n",
       "      <td>0.009474</td>\n",
       "    </tr>\n",
       "    <tr>\n",
       "      <th>Embarked_Q</th>\n",
       "      <td>0.008845</td>\n",
       "    </tr>\n",
       "    <tr>\n",
       "      <th>Cabin_B</th>\n",
       "      <td>0.007840</td>\n",
       "    </tr>\n",
       "    <tr>\n",
       "      <th>Cabin_D</th>\n",
       "      <td>0.007782</td>\n",
       "    </tr>\n",
       "    <tr>\n",
       "      <th>Cabin_C</th>\n",
       "      <td>0.006845</td>\n",
       "    </tr>\n",
       "    <tr>\n",
       "      <th>Cabin_A</th>\n",
       "      <td>0.003899</td>\n",
       "    </tr>\n",
       "    <tr>\n",
       "      <th>Cabin_F</th>\n",
       "      <td>0.002694</td>\n",
       "    </tr>\n",
       "  </tbody>\n",
       "</table>\n",
       "</div>"
      ],
      "text/plain": [
       "            importance\n",
       "Fare          0.229475\n",
       "Age           0.224378\n",
       "Sex_female    0.131263\n",
       "Sex_male      0.129922\n",
       "Pclass        0.083134\n",
       "SibSp         0.048526\n",
       "Parch         0.038908\n",
       "Cabin_No      0.037683\n",
       "Embarked_S    0.016126\n",
       "Embarked_C    0.013205\n",
       "Cabin_E       0.009474\n",
       "Embarked_Q    0.008845\n",
       "Cabin_B       0.007840\n",
       "Cabin_D       0.007782\n",
       "Cabin_C       0.006845\n",
       "Cabin_A       0.003899\n",
       "Cabin_F       0.002694"
      ]
     },
     "execution_count": 17,
     "metadata": {},
     "output_type": "execute_result"
    }
   ],
   "source": [
    "pd.DataFrame(dico_modeles['rf'].feature_importances_,index=x.columns,\n",
    "             columns=[\"importance\"]).sort_values(\"importance\",ascending = False)"
   ]
  },
  {
   "cell_type": "markdown",
   "metadata": {},
   "source": [
    "On va rechercher les hyper-paramètres du modèle en utilisant une grille"
   ]
  },
  {
   "cell_type": "code",
   "execution_count": 18,
   "metadata": {},
   "outputs": [],
   "source": [
    "from sklearn.model_selection import GridSearchCV"
   ]
  },
  {
   "cell_type": "code",
   "execution_count": 19,
   "metadata": {},
   "outputs": [],
   "source": [
    "# on construit la grille de paramètres\n",
    "param = dict(n_estimators=[10,100,1000], max_depth=[3,5,7,9])\n",
    "\n",
    "# on crée un objet de la classe GridSearchCV\n",
    "modele_grid= GridSearchCV(RandomForestClassifier(),param,scoring=\"roc_auc\",cv=4)"
   ]
  },
  {
   "cell_type": "code",
   "execution_count": 20,
   "metadata": {},
   "outputs": [
    {
     "data": {
      "text/plain": [
       "GridSearchCV(cv=4, error_score=nan,\n",
       "             estimator=RandomForestClassifier(bootstrap=True, ccp_alpha=0.0,\n",
       "                                              class_weight=None,\n",
       "                                              criterion='gini', max_depth=None,\n",
       "                                              max_features='auto',\n",
       "                                              max_leaf_nodes=None,\n",
       "                                              max_samples=None,\n",
       "                                              min_impurity_decrease=0.0,\n",
       "                                              min_impurity_split=None,\n",
       "                                              min_samples_leaf=1,\n",
       "                                              min_samples_split=2,\n",
       "                                              min_weight_fraction_leaf=0.0,\n",
       "                                              n_estimators=100, n_jobs=None,\n",
       "                                              oob_score=False,\n",
       "                                              random_state=None, verbose=0,\n",
       "                                              warm_start=False),\n",
       "             iid='deprecated', n_jobs=None,\n",
       "             param_grid={'max_depth': [3, 5, 7, 9],\n",
       "                         'n_estimators': [10, 100, 1000]},\n",
       "             pre_dispatch='2*n_jobs', refit=True, return_train_score=False,\n",
       "             scoring='roc_auc', verbose=0)"
      ]
     },
     "execution_count": 20,
     "metadata": {},
     "output_type": "execute_result"
    }
   ],
   "source": [
    "modele_grid.fit(x_train,y_train)"
   ]
  },
  {
   "cell_type": "code",
   "execution_count": 21,
   "metadata": {},
   "outputs": [
    {
     "data": {
      "text/plain": [
       "0.8589023665935672"
      ]
     },
     "execution_count": 21,
     "metadata": {},
     "output_type": "execute_result"
    }
   ],
   "source": [
    "modele_grid.best_score_"
   ]
  },
  {
   "cell_type": "code",
   "execution_count": 22,
   "metadata": {},
   "outputs": [
    {
     "data": {
      "text/plain": [
       "{'max_depth': 5, 'n_estimators': 10}"
      ]
     },
     "execution_count": 22,
     "metadata": {},
     "output_type": "execute_result"
    }
   ],
   "source": [
    "modele_grid.best_params_"
   ]
  },
  {
   "cell_type": "code",
   "execution_count": 23,
   "metadata": {},
   "outputs": [
    {
     "data": {
      "text/html": [
       "<div>\n",
       "<style scoped>\n",
       "    .dataframe tbody tr th:only-of-type {\n",
       "        vertical-align: middle;\n",
       "    }\n",
       "\n",
       "    .dataframe tbody tr th {\n",
       "        vertical-align: top;\n",
       "    }\n",
       "\n",
       "    .dataframe thead th {\n",
       "        text-align: right;\n",
       "    }\n",
       "</style>\n",
       "<table border=\"1\" class=\"dataframe\">\n",
       "  <thead>\n",
       "    <tr style=\"text-align: right;\">\n",
       "      <th></th>\n",
       "      <th>mean_fit_time</th>\n",
       "      <th>std_fit_time</th>\n",
       "      <th>mean_score_time</th>\n",
       "      <th>std_score_time</th>\n",
       "      <th>param_max_depth</th>\n",
       "      <th>param_n_estimators</th>\n",
       "      <th>params</th>\n",
       "      <th>split0_test_score</th>\n",
       "      <th>split1_test_score</th>\n",
       "      <th>split2_test_score</th>\n",
       "      <th>split3_test_score</th>\n",
       "      <th>mean_test_score</th>\n",
       "      <th>std_test_score</th>\n",
       "      <th>rank_test_score</th>\n",
       "    </tr>\n",
       "  </thead>\n",
       "  <tbody>\n",
       "    <tr>\n",
       "      <th>0</th>\n",
       "      <td>0.034592</td>\n",
       "      <td>0.000743</td>\n",
       "      <td>0.005984</td>\n",
       "      <td>6.610475e-07</td>\n",
       "      <td>3</td>\n",
       "      <td>10</td>\n",
       "      <td>{'max_depth': 3, 'n_estimators': 10}</td>\n",
       "      <td>0.828559</td>\n",
       "      <td>0.863021</td>\n",
       "      <td>0.867535</td>\n",
       "      <td>0.839474</td>\n",
       "      <td>0.849647</td>\n",
       "      <td>0.016179</td>\n",
       "      <td>12</td>\n",
       "    </tr>\n",
       "    <tr>\n",
       "      <th>1</th>\n",
       "      <td>0.260054</td>\n",
       "      <td>0.002855</td>\n",
       "      <td>0.018451</td>\n",
       "      <td>4.319902e-03</td>\n",
       "      <td>3</td>\n",
       "      <td>100</td>\n",
       "      <td>{'max_depth': 3, 'n_estimators': 100}</td>\n",
       "      <td>0.823958</td>\n",
       "      <td>0.865625</td>\n",
       "      <td>0.883420</td>\n",
       "      <td>0.838772</td>\n",
       "      <td>0.852944</td>\n",
       "      <td>0.023079</td>\n",
       "      <td>9</td>\n",
       "    </tr>\n",
       "    <tr>\n",
       "      <th>2</th>\n",
       "      <td>2.567660</td>\n",
       "      <td>0.077274</td>\n",
       "      <td>0.182480</td>\n",
       "      <td>9.734021e-03</td>\n",
       "      <td>3</td>\n",
       "      <td>1000</td>\n",
       "      <td>{'max_depth': 3, 'n_estimators': 1000}</td>\n",
       "      <td>0.819010</td>\n",
       "      <td>0.867882</td>\n",
       "      <td>0.886806</td>\n",
       "      <td>0.840614</td>\n",
       "      <td>0.853578</td>\n",
       "      <td>0.025844</td>\n",
       "      <td>8</td>\n",
       "    </tr>\n",
       "    <tr>\n",
       "      <th>3</th>\n",
       "      <td>0.032911</td>\n",
       "      <td>0.001995</td>\n",
       "      <td>0.006223</td>\n",
       "      <td>4.140199e-04</td>\n",
       "      <td>5</td>\n",
       "      <td>10</td>\n",
       "      <td>{'max_depth': 5, 'n_estimators': 10}</td>\n",
       "      <td>0.836892</td>\n",
       "      <td>0.863889</td>\n",
       "      <td>0.891319</td>\n",
       "      <td>0.843509</td>\n",
       "      <td>0.858902</td>\n",
       "      <td>0.021196</td>\n",
       "      <td>1</td>\n",
       "    </tr>\n",
       "    <tr>\n",
       "      <th>4</th>\n",
       "      <td>0.276300</td>\n",
       "      <td>0.007619</td>\n",
       "      <td>0.021661</td>\n",
       "      <td>5.070139e-04</td>\n",
       "      <td>5</td>\n",
       "      <td>100</td>\n",
       "      <td>{'max_depth': 5, 'n_estimators': 100}</td>\n",
       "      <td>0.826823</td>\n",
       "      <td>0.873177</td>\n",
       "      <td>0.872569</td>\n",
       "      <td>0.834211</td>\n",
       "      <td>0.851695</td>\n",
       "      <td>0.021340</td>\n",
       "      <td>11</td>\n",
       "    </tr>\n",
       "    <tr>\n",
       "      <th>5</th>\n",
       "      <td>2.804983</td>\n",
       "      <td>0.069596</td>\n",
       "      <td>0.195756</td>\n",
       "      <td>8.802424e-03</td>\n",
       "      <td>5</td>\n",
       "      <td>1000</td>\n",
       "      <td>{'max_depth': 5, 'n_estimators': 1000}</td>\n",
       "      <td>0.834288</td>\n",
       "      <td>0.873264</td>\n",
       "      <td>0.878819</td>\n",
       "      <td>0.841404</td>\n",
       "      <td>0.856944</td>\n",
       "      <td>0.019363</td>\n",
       "      <td>6</td>\n",
       "    </tr>\n",
       "    <tr>\n",
       "      <th>6</th>\n",
       "      <td>0.031668</td>\n",
       "      <td>0.000436</td>\n",
       "      <td>0.005747</td>\n",
       "      <td>4.374323e-04</td>\n",
       "      <td>7</td>\n",
       "      <td>10</td>\n",
       "      <td>{'max_depth': 7, 'n_estimators': 10}</td>\n",
       "      <td>0.864323</td>\n",
       "      <td>0.848438</td>\n",
       "      <td>0.876128</td>\n",
       "      <td>0.843246</td>\n",
       "      <td>0.858034</td>\n",
       "      <td>0.013017</td>\n",
       "      <td>4</td>\n",
       "    </tr>\n",
       "    <tr>\n",
       "      <th>7</th>\n",
       "      <td>0.281756</td>\n",
       "      <td>0.000488</td>\n",
       "      <td>0.022418</td>\n",
       "      <td>4.775477e-04</td>\n",
       "      <td>7</td>\n",
       "      <td>100</td>\n",
       "      <td>{'max_depth': 7, 'n_estimators': 100}</td>\n",
       "      <td>0.845226</td>\n",
       "      <td>0.871788</td>\n",
       "      <td>0.872396</td>\n",
       "      <td>0.843596</td>\n",
       "      <td>0.858252</td>\n",
       "      <td>0.013854</td>\n",
       "      <td>2</td>\n",
       "    </tr>\n",
       "    <tr>\n",
       "      <th>8</th>\n",
       "      <td>2.866598</td>\n",
       "      <td>0.065687</td>\n",
       "      <td>0.196553</td>\n",
       "      <td>9.533576e-03</td>\n",
       "      <td>7</td>\n",
       "      <td>1000</td>\n",
       "      <td>{'max_depth': 7, 'n_estimators': 1000}</td>\n",
       "      <td>0.836372</td>\n",
       "      <td>0.870486</td>\n",
       "      <td>0.868056</td>\n",
       "      <td>0.848947</td>\n",
       "      <td>0.855965</td>\n",
       "      <td>0.014055</td>\n",
       "      <td>7</td>\n",
       "    </tr>\n",
       "    <tr>\n",
       "      <th>9</th>\n",
       "      <td>0.033679</td>\n",
       "      <td>0.001297</td>\n",
       "      <td>0.005302</td>\n",
       "      <td>4.016295e-04</td>\n",
       "      <td>9</td>\n",
       "      <td>10</td>\n",
       "      <td>{'max_depth': 9, 'n_estimators': 10}</td>\n",
       "      <td>0.822222</td>\n",
       "      <td>0.862240</td>\n",
       "      <td>0.862674</td>\n",
       "      <td>0.862105</td>\n",
       "      <td>0.852310</td>\n",
       "      <td>0.017373</td>\n",
       "      <td>10</td>\n",
       "    </tr>\n",
       "    <tr>\n",
       "      <th>10</th>\n",
       "      <td>0.299898</td>\n",
       "      <td>0.017066</td>\n",
       "      <td>0.023947</td>\n",
       "      <td>9.868652e-04</td>\n",
       "      <td>9</td>\n",
       "      <td>100</td>\n",
       "      <td>{'max_depth': 9, 'n_estimators': 100}</td>\n",
       "      <td>0.841146</td>\n",
       "      <td>0.857726</td>\n",
       "      <td>0.874132</td>\n",
       "      <td>0.859825</td>\n",
       "      <td>0.858207</td>\n",
       "      <td>0.011700</td>\n",
       "      <td>3</td>\n",
       "    </tr>\n",
       "    <tr>\n",
       "      <th>11</th>\n",
       "      <td>3.057329</td>\n",
       "      <td>0.157152</td>\n",
       "      <td>0.213431</td>\n",
       "      <td>1.058990e-02</td>\n",
       "      <td>9</td>\n",
       "      <td>1000</td>\n",
       "      <td>{'max_depth': 9, 'n_estimators': 1000}</td>\n",
       "      <td>0.844184</td>\n",
       "      <td>0.865972</td>\n",
       "      <td>0.866146</td>\n",
       "      <td>0.851930</td>\n",
       "      <td>0.857058</td>\n",
       "      <td>0.009409</td>\n",
       "      <td>5</td>\n",
       "    </tr>\n",
       "  </tbody>\n",
       "</table>\n",
       "</div>"
      ],
      "text/plain": [
       "    mean_fit_time  std_fit_time  mean_score_time  std_score_time  \\\n",
       "0        0.034592      0.000743         0.005984    6.610475e-07   \n",
       "1        0.260054      0.002855         0.018451    4.319902e-03   \n",
       "2        2.567660      0.077274         0.182480    9.734021e-03   \n",
       "3        0.032911      0.001995         0.006223    4.140199e-04   \n",
       "4        0.276300      0.007619         0.021661    5.070139e-04   \n",
       "5        2.804983      0.069596         0.195756    8.802424e-03   \n",
       "6        0.031668      0.000436         0.005747    4.374323e-04   \n",
       "7        0.281756      0.000488         0.022418    4.775477e-04   \n",
       "8        2.866598      0.065687         0.196553    9.533576e-03   \n",
       "9        0.033679      0.001297         0.005302    4.016295e-04   \n",
       "10       0.299898      0.017066         0.023947    9.868652e-04   \n",
       "11       3.057329      0.157152         0.213431    1.058990e-02   \n",
       "\n",
       "   param_max_depth param_n_estimators                                  params  \\\n",
       "0                3                 10    {'max_depth': 3, 'n_estimators': 10}   \n",
       "1                3                100   {'max_depth': 3, 'n_estimators': 100}   \n",
       "2                3               1000  {'max_depth': 3, 'n_estimators': 1000}   \n",
       "3                5                 10    {'max_depth': 5, 'n_estimators': 10}   \n",
       "4                5                100   {'max_depth': 5, 'n_estimators': 100}   \n",
       "5                5               1000  {'max_depth': 5, 'n_estimators': 1000}   \n",
       "6                7                 10    {'max_depth': 7, 'n_estimators': 10}   \n",
       "7                7                100   {'max_depth': 7, 'n_estimators': 100}   \n",
       "8                7               1000  {'max_depth': 7, 'n_estimators': 1000}   \n",
       "9                9                 10    {'max_depth': 9, 'n_estimators': 10}   \n",
       "10               9                100   {'max_depth': 9, 'n_estimators': 100}   \n",
       "11               9               1000  {'max_depth': 9, 'n_estimators': 1000}   \n",
       "\n",
       "    split0_test_score  split1_test_score  split2_test_score  \\\n",
       "0            0.828559           0.863021           0.867535   \n",
       "1            0.823958           0.865625           0.883420   \n",
       "2            0.819010           0.867882           0.886806   \n",
       "3            0.836892           0.863889           0.891319   \n",
       "4            0.826823           0.873177           0.872569   \n",
       "5            0.834288           0.873264           0.878819   \n",
       "6            0.864323           0.848438           0.876128   \n",
       "7            0.845226           0.871788           0.872396   \n",
       "8            0.836372           0.870486           0.868056   \n",
       "9            0.822222           0.862240           0.862674   \n",
       "10           0.841146           0.857726           0.874132   \n",
       "11           0.844184           0.865972           0.866146   \n",
       "\n",
       "    split3_test_score  mean_test_score  std_test_score  rank_test_score  \n",
       "0            0.839474         0.849647        0.016179               12  \n",
       "1            0.838772         0.852944        0.023079                9  \n",
       "2            0.840614         0.853578        0.025844                8  \n",
       "3            0.843509         0.858902        0.021196                1  \n",
       "4            0.834211         0.851695        0.021340               11  \n",
       "5            0.841404         0.856944        0.019363                6  \n",
       "6            0.843246         0.858034        0.013017                4  \n",
       "7            0.843596         0.858252        0.013854                2  \n",
       "8            0.848947         0.855965        0.014055                7  \n",
       "9            0.862105         0.852310        0.017373               10  \n",
       "10           0.859825         0.858207        0.011700                3  \n",
       "11           0.851930         0.857058        0.009409                5  "
      ]
     },
     "execution_count": 23,
     "metadata": {},
     "output_type": "execute_result"
    }
   ],
   "source": [
    "pd.DataFrame(modele_grid.cv_results_)"
   ]
  },
  {
   "cell_type": "markdown",
   "metadata": {},
   "source": [
    "Si on veut exporter un modèle, on peut utiliser :"
   ]
  },
  {
   "cell_type": "code",
   "execution_count": 24,
   "metadata": {},
   "outputs": [
    {
     "name": "stderr",
     "output_type": "stream",
     "text": [
      "C:\\Users\\s4d-asus-14\\Anaconda3\\lib\\site-packages\\sklearn\\externals\\joblib\\__init__.py:15: FutureWarning: sklearn.externals.joblib is deprecated in 0.21 and will be removed in 0.23. Please import this functionality directly from joblib, which can be installed with: pip install joblib. If this warning is raised when loading pickled models, you may need to re-serialize those models with scikit-learn 0.21+.\n",
      "  warnings.warn(msg, category=FutureWarning)\n"
     ]
    }
   ],
   "source": [
    "from sklearn.externals import joblib"
   ]
  },
  {
   "cell_type": "code",
   "execution_count": 25,
   "metadata": {},
   "outputs": [
    {
     "data": {
      "text/plain": [
       "['modele_grid.pkl']"
      ]
     },
     "execution_count": 25,
     "metadata": {},
     "output_type": "execute_result"
    }
   ],
   "source": [
    "joblib.dump(modele_grid,\"modele_grid.pkl\")"
   ]
  },
  {
   "cell_type": "markdown",
   "metadata": {},
   "source": [
    "## Construction d'un pipeline"
   ]
  },
  {
   "cell_type": "code",
   "execution_count": 26,
   "metadata": {},
   "outputs": [],
   "source": [
    "from sklearn.pipeline import Pipeline\n",
    "from sklearn.svm import SVC\n",
    "from sklearn.decomposition import PCA"
   ]
  },
  {
   "cell_type": "code",
   "execution_count": 27,
   "metadata": {},
   "outputs": [],
   "source": [
    "# création d'un objet de la classe Pipeline\n",
    "mon_pipe = Pipeline(steps=[(\"acp\",PCA(n_components=4)),(\"svm\",SVC())])"
   ]
  },
  {
   "cell_type": "code",
   "execution_count": 28,
   "metadata": {},
   "outputs": [
    {
     "data": {
      "text/plain": [
       "Pipeline(memory=None,\n",
       "         steps=[('acp',\n",
       "                 PCA(copy=True, iterated_power='auto', n_components=4,\n",
       "                     random_state=None, svd_solver='auto', tol=0.0,\n",
       "                     whiten=False)),\n",
       "                ('svm',\n",
       "                 SVC(C=1.0, break_ties=False, cache_size=200, class_weight=None,\n",
       "                     coef0=0.0, decision_function_shape='ovr', degree=3,\n",
       "                     gamma='scale', kernel='rbf', max_iter=-1,\n",
       "                     probability=False, random_state=None, shrinking=True,\n",
       "                     tol=0.001, verbose=False))],\n",
       "         verbose=False)"
      ]
     },
     "execution_count": 28,
     "metadata": {},
     "output_type": "execute_result"
    }
   ],
   "source": [
    "mon_pipe.fit(x_train,y_train)"
   ]
  },
  {
   "cell_type": "code",
   "execution_count": 29,
   "metadata": {},
   "outputs": [
    {
     "data": {
      "text/plain": [
       "array([[152,  14],\n",
       "       [ 77,  25]], dtype=int64)"
      ]
     },
     "execution_count": 29,
     "metadata": {},
     "output_type": "execute_result"
    }
   ],
   "source": [
    "confusion_matrix(y_test,mon_pipe.predict(x_test))"
   ]
  }
 ],
 "metadata": {
  "kernelspec": {
   "display_name": "Python 3",
   "language": "python",
   "name": "python3"
  },
  "language_info": {
   "codemirror_mode": {
    "name": "ipython",
    "version": 3
   },
   "file_extension": ".py",
   "mimetype": "text/x-python",
   "name": "python",
   "nbconvert_exporter": "python",
   "pygments_lexer": "ipython3",
   "version": "3.7.6"
  }
 },
 "nbformat": 4,
 "nbformat_minor": 4
}
